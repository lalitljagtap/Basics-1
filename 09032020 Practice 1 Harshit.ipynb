{
 "cells": [
  {
   "cell_type": "markdown",
   "metadata": {},
   "source": [
    "( ) = for creating tuples\n",
    "{ }= for creating dictionary\n",
    "[ ] = for creating lists\n",
    "Wow, Amazing Python"
   ]
  },
  {
   "cell_type": "code",
   "execution_count": 1,
   "metadata": {},
   "outputs": [
    {
     "data": {
      "text/plain": [
       "4"
      ]
     },
     "execution_count": 1,
     "metadata": {},
     "output_type": "execute_result"
    }
   ],
   "source": [
    "2+2"
   ]
  },
  {
   "cell_type": "code",
   "execution_count": 54,
   "metadata": {},
   "outputs": [
    {
     "name": "stdout",
     "output_type": "stream",
     "text": [
      "this is \\\\ double backslash\n"
     ]
    }
   ],
   "source": [
    "print('this is \\\\\\\\ double backslash')"
   ]
  },
  {
   "cell_type": "code",
   "execution_count": 53,
   "metadata": {},
   "outputs": [
    {
     "name": "stdout",
     "output_type": "stream",
     "text": [
      " \\\" \\n \\t \\' \n"
     ]
    }
   ],
   "source": [
    "print(\" \\\\\\\" \\\\n \\\\t \\\\\\' \")"
   ]
  },
  {
   "cell_type": "code",
   "execution_count": 4,
   "metadata": {},
   "outputs": [
    {
     "name": "stdout",
     "output_type": "stream",
     "text": [
      " These are /\\/\\/\\/\\ mountains\n"
     ]
    }
   ],
   "source": [
    "print(\" These are /\\\\/\\\\/\\\\/\\\\ mountains\")"
   ]
  },
  {
   "cell_type": "code",
   "execution_count": 61,
   "metadata": {},
   "outputs": [
    {
     "name": "stdout",
     "output_type": "stream",
     "text": [
      " He is \t Awesome\n"
     ]
    }
   ],
   "source": [
    "print(\" He is \\t Awesome\")"
   ]
  },
  {
   "cell_type": "code",
   "execution_count": 6,
   "metadata": {},
   "outputs": [
    {
     "name": "stdout",
     "output_type": "stream",
     "text": [
      "line A \\n line B\n"
     ]
    }
   ],
   "source": [
    "print(r\"line A \\n line B\")"
   ]
  },
  {
   "cell_type": "code",
   "execution_count": 63,
   "metadata": {},
   "outputs": [
    {
     "name": "stdout",
     "output_type": "stream",
     "text": [
      "\n",
      "\n"
     ]
    }
   ],
   "source": [
    "print(\"\\n\")  # to print empty line"
   ]
  },
  {
   "cell_type": "code",
   "execution_count": 7,
   "metadata": {},
   "outputs": [
    {
     "name": "stdout",
     "output_type": "stream",
     "text": [
      "😂\n"
     ]
    }
   ],
   "source": [
    "print(\"\\U0001F602\")"
   ]
  },
  {
   "cell_type": "code",
   "execution_count": 47,
   "metadata": {},
   "outputs": [
    {
     "name": "stdout",
     "output_type": "stream",
     "text": [
      "5.833333333333333\n"
     ]
    }
   ],
   "source": [
    "print(2+3+5/6)"
   ]
  },
  {
   "cell_type": "code",
   "execution_count": 8,
   "metadata": {},
   "outputs": [
    {
     "name": "stdout",
     "output_type": "stream",
     "text": [
      "0\n"
     ]
    }
   ],
   "source": [
    "print(2//4)"
   ]
  },
  {
   "cell_type": "code",
   "execution_count": 10,
   "metadata": {},
   "outputs": [
    {
     "name": "stdout",
     "output_type": "stream",
     "text": [
      "8\n"
     ]
    }
   ],
   "source": [
    "print(2**3) # ** means square root "
   ]
  },
  {
   "cell_type": "code",
   "execution_count": 1,
   "metadata": {
    "scrolled": true
   },
   "outputs": [
    {
     "name": "stdout",
     "output_type": "stream",
     "text": [
      "1.4142135623730951\n"
     ]
    }
   ],
   "source": [
    "print(2**0.5)"
   ]
  },
  {
   "cell_type": "code",
   "execution_count": 12,
   "metadata": {},
   "outputs": [
    {
     "name": "stdout",
     "output_type": "stream",
     "text": [
      "24.0\n"
     ]
    }
   ],
   "source": [
    "print(2**3/2*6)"
   ]
  },
  {
   "cell_type": "code",
   "execution_count": 13,
   "metadata": {},
   "outputs": [
    {
     "name": "stdout",
     "output_type": "stream",
     "text": [
      "1\n"
     ]
    }
   ],
   "source": [
    "print(3%2)  # Shows remainder"
   ]
  },
  {
   "cell_type": "code",
   "execution_count": 2,
   "metadata": {},
   "outputs": [
    {
     "name": "stdout",
     "output_type": "stream",
     "text": [
      "0\n"
     ]
    }
   ],
   "source": [
    "print(4%2)"
   ]
  },
  {
   "cell_type": "code",
   "execution_count": 14,
   "metadata": {},
   "outputs": [
    {
     "name": "stdout",
     "output_type": "stream",
     "text": [
      "512\n"
     ]
    }
   ],
   "source": [
    "print(2**9)"
   ]
  },
  {
   "cell_type": "markdown",
   "metadata": {},
   "source": [
    "## camel case java"
   ]
  },
  {
   "cell_type": "code",
   "execution_count": 59,
   "metadata": {},
   "outputs": [
    {
     "name": "stdout",
     "output_type": "stream",
     "text": [
      "4\n",
      "2\n"
     ]
    }
   ],
   "source": [
    "number1=2\n",
    "number2=4\n",
    "print(number2)\n",
    "print(number1)"
   ]
  },
  {
   "cell_type": "code",
   "execution_count": 37,
   "metadata": {},
   "outputs": [
    {
     "name": "stdout",
     "output_type": "stream",
     "text": [
      "type your name \n",
      " Lalit\n"
     ]
    }
   ],
   "source": [
    "name=input(\"type your name \\n \")"
   ]
  },
  {
   "cell_type": "code",
   "execution_count": 4,
   "metadata": {},
   "outputs": [
    {
     "name": "stdout",
     "output_type": "stream",
     "text": [
      "what is your age? 26\n"
     ]
    }
   ],
   "source": [
    "age=input(\"what is your age? \")"
   ]
  },
  {
   "cell_type": "code",
   "execution_count": 18,
   "metadata": {},
   "outputs": [
    {
     "name": "stdout",
     "output_type": "stream",
     "text": [
      "Your age is 26\n"
     ]
    }
   ],
   "source": [
    "print(\"Your age is \" + age)"
   ]
  },
  {
   "cell_type": "markdown",
   "metadata": {},
   "source": [
    "# Chapter 2"
   ]
  },
  {
   "cell_type": "code",
   "execution_count": 21,
   "metadata": {},
   "outputs": [
    {
     "name": "stdout",
     "output_type": "stream",
     "text": [
      "10.0\n"
     ]
    }
   ],
   "source": [
    "number_one=int(\"5\")\n",
    "number_two=float(\"5\")\n",
    "number_three=str(5)\n",
    "print(number_one+number_two)"
   ]
  },
  {
   "cell_type": "code",
   "execution_count": 36,
   "metadata": {},
   "outputs": [
    {
     "name": "stdout",
     "output_type": "stream",
     "text": [
      "hello Lalit your age is 26\n"
     ]
    }
   ],
   "source": [
    "name, age=\"Lalit\", \"26\"\n",
    "print(\"hello \"+name+\" your age is \"+  age)"
   ]
  },
  {
   "cell_type": "code",
   "execution_count": 21,
   "metadata": {},
   "outputs": [
    {
     "name": "stdout",
     "output_type": "stream",
     "text": [
      "3\n"
     ]
    }
   ],
   "source": [
    "x=y=z=1\n",
    "print(x+y+z)"
   ]
  },
  {
   "cell_type": "code",
   "execution_count": 22,
   "metadata": {},
   "outputs": [
    {
     "name": "stdout",
     "output_type": "stream",
     "text": [
      "enter your name:Lalit\n",
      "enter your age:26\n"
     ]
    }
   ],
   "source": [
    "name=input(\"enter your name:\")\n",
    "age=input(\"enter your age:\")"
   ]
  },
  {
   "cell_type": "code",
   "execution_count": 22,
   "metadata": {},
   "outputs": [
    {
     "name": "stdout",
     "output_type": "stream",
     "text": [
      "enter your name & ageLalit,26\n",
      "Lalit\n",
      "26\n"
     ]
    }
   ],
   "source": [
    "name, age=input(\"enter your name & age\").split(\",\")\n",
    "print(name )\n",
    "print(age )"
   ]
  },
  {
   "cell_type": "markdown",
   "metadata": {},
   "source": [
    "# Examples of f.\n",
    "#while usinf \" f \" {} are necessary in statement"
   ]
  },
  {
   "cell_type": "code",
   "execution_count": 25,
   "metadata": {},
   "outputs": [
    {
     "name": "stdout",
     "output_type": "stream",
     "text": [
      "hello Lalit your age is 26\n",
      "hello Lalit your age is 28\n"
     ]
    }
   ],
   "source": [
    "name=\"Lalit\"\n",
    "age=26\n",
    "print(\"hello \"+name+\" your age is \"+str(age))\n",
    "print(f\"hello {name} your age is {age+2}\")"
   ]
  },
  {
   "cell_type": "code",
   "execution_count": 10,
   "metadata": {},
   "outputs": [
    {
     "name": "stdout",
     "output_type": "stream",
     "text": [
      "3.0\n"
     ]
    }
   ],
   "source": [
    "num1=3\n",
    "num2=3\n",
    "num3=3\n",
    "print((num1+num2+num3)/3)"
   ]
  },
  {
   "cell_type": "code",
   "execution_count": 53,
   "metadata": {},
   "outputs": [
    {
     "name": "stdout",
     "output_type": "stream",
     "text": [
      "333/3\n"
     ]
    }
   ],
   "source": [
    "num1=3\n",
    "num2=3\n",
    "num3=3\n",
    "print(f\"{num1}{num2}{num3}/3\")"
   ]
  },
  {
   "cell_type": "code",
   "execution_count": 1,
   "metadata": {},
   "outputs": [
    {
     "name": "stdout",
     "output_type": "stream",
     "text": [
      "first number:3\n",
      "second number:3\n",
      "third number;3\n",
      "average of three numbers:3.0\n"
     ]
    }
   ],
   "source": [
    "num1=input(\"first number:\")\n",
    "num2=input(\"second number:\")\n",
    "num3=input(\"third number;\")\n",
    "#(int(num1)+(num2)+(num3))/3\n",
    "print(f\"average of three numbers:{(int(num1)+int(num2)+int(num3))/3}\")"
   ]
  },
  {
   "cell_type": "code",
   "execution_count": 10,
   "metadata": {},
   "outputs": [
    {
     "name": "stdout",
     "output_type": "stream",
     "text": [
      "first number:3\n",
      "second number:3\n",
      "third number;3\n",
      "average of three numbers:{(int(num1)+int(num2)+int(num3))/3}\n"
     ]
    }
   ],
   "source": [
    "num1=input(\"first number:\")\n",
    "num2=input(\"second number:\")\n",
    "num3=input(\"third number;\")\n",
    "#(int(num1)+(num2)+(num3))/3\n",
    "print(\"average of three numbers:{(int(num1)+int(num2)+int(num3))/3}\")# f is not added, will print whole line"
   ]
  },
  {
   "cell_type": "code",
   "execution_count": 9,
   "metadata": {},
   "outputs": [
    {
     "name": "stdout",
     "output_type": "stream",
     "text": [
      "enter three numbers comma seperator:9,3,6\n",
      "average of three numbers:6.0\n"
     ]
    }
   ],
   "source": [
    "# num1=input(\"first number:\")\n",
    "# num2=input(\"second number:\")\n",
    "# num3=input(\"third number;\")\n",
    "#(int(num1)+(num2)+(num3))/3\n",
    "num1,num2,num3=input(\"enter three numbers comma seperator:\").split(\",\")\n",
    "print(f\"average of three numbers:{(int(num1)+int(num2)+int(num3))/3}\")"
   ]
  },
  {
   "cell_type": "code",
   "execution_count": 27,
   "metadata": {},
   "outputs": [
    {
     "name": "stdout",
     "output_type": "stream",
     "text": [
      "enter three numbers comma seperator:3,3,3\n",
      "multiplication of three number:9.0\n"
     ]
    }
   ],
   "source": [
    "num1,num2,num3=input(\"enter three numbers comma seperator:\").split(\",\")\n",
    "print(f\"multiplication of three number:{(int(num1)*int(num2)*int(num3))/3}\")# will not calculate without \"int\" "
   ]
  },
  {
   "cell_type": "markdown",
   "metadata": {},
   "source": [
    "## String Indexing"
   ]
  },
  {
   "cell_type": "code",
   "execution_count": 19,
   "metadata": {},
   "outputs": [
    {
     "name": "stdout",
     "output_type": "stream",
     "text": [
      "p\n"
     ]
    }
   ],
   "source": [
    "language=\"python\"\n",
    "print(language[0])"
   ]
  },
  {
   "cell_type": "code",
   "execution_count": 20,
   "metadata": {},
   "outputs": [
    {
     "name": "stdout",
     "output_type": "stream",
     "text": [
      "o\n"
     ]
    }
   ],
   "source": [
    "language=\"python\"\n",
    "print(language[-2])"
   ]
  },
  {
   "cell_type": "code",
   "execution_count": 30,
   "metadata": {},
   "outputs": [
    {
     "name": "stdout",
     "output_type": "stream",
     "text": [
      "T\n"
     ]
    }
   ],
   "source": [
    "lang=\"PYTHON\"\n",
    "print(lang[2:3])"
   ]
  },
  {
   "cell_type": "code",
   "execution_count": 25,
   "metadata": {},
   "outputs": [
    {
     "name": "stdout",
     "output_type": "stream",
     "text": [
      "PYTHON\n"
     ]
    }
   ],
   "source": [
    "lang=\"PYTHON\"\n",
    "print(lang[:])"
   ]
  },
  {
   "cell_type": "code",
   "execution_count": 27,
   "metadata": {},
   "outputs": [
    {
     "name": "stdout",
     "output_type": "stream",
     "text": [
      "YTHON\n"
     ]
    }
   ],
   "source": [
    "lang=\"PYTHON\"\n",
    "print(lang[1:])"
   ]
  },
  {
   "cell_type": "code",
   "execution_count": 12,
   "metadata": {},
   "outputs": [
    {
     "name": "stdout",
     "output_type": "stream",
     "text": [
      "PYT\n"
     ]
    }
   ],
   "source": [
    "lang=\"PYTHON\"\n",
    "print(lang[:3])"
   ]
  },
  {
   "cell_type": "code",
   "execution_count": 37,
   "metadata": {},
   "outputs": [
    {
     "name": "stdout",
     "output_type": "stream",
     "text": [
      "Lali\n"
     ]
    }
   ],
   "source": [
    "print(\"Lalit\"[0:4])"
   ]
  },
  {
   "cell_type": "code",
   "execution_count": 68,
   "metadata": {},
   "outputs": [
    {
     "name": "stdout",
     "output_type": "stream",
     "text": [
      "HON\n"
     ]
    }
   ],
   "source": [
    "print(\"PYTHON\"[-3::1])"
   ]
  },
  {
   "cell_type": "code",
   "execution_count": 11,
   "metadata": {},
   "outputs": [
    {
     "name": "stdout",
     "output_type": "stream",
     "text": [
      "enter you nameLalit\n",
      "tilaL\n",
      "reverse of your nametilaL\n"
     ]
    }
   ],
   "source": [
    "name=input(\"enter you name\")\n",
    "reverse=name[-1::-1]\n",
    "print(name[-1::-1])\n",
    "print(f\"reverse of your name{reverse}\")"
   ]
  },
  {
   "cell_type": "markdown",
   "metadata": {},
   "source": [
    "# Length count of word"
   ]
  },
  {
   "cell_type": "code",
   "execution_count": 21,
   "metadata": {},
   "outputs": [
    {
     "name": "stdout",
     "output_type": "stream",
     "text": [
      "12\n",
      "lalit jagtap\n",
      "LALIT JAGTAP\n",
      "Lalit Jagtap\n",
      "3\n"
     ]
    }
   ],
   "source": [
    "name=\"LaLit JaGtap\"\n",
    "print(len(name))\n",
    "print(name.lower())\n",
    "print(name.upper())\n",
    "print(name.title())\n",
    "print(name.count(\"a\"))"
   ]
  },
  {
   "cell_type": "code",
   "execution_count": 40,
   "metadata": {},
   "outputs": [
    {
     "name": "stdout",
     "output_type": "stream",
     "text": [
      "enter comma sep name and char:Lalitll,l\n",
      "length of your name is7\n",
      "character count:4\n"
     ]
    }
   ],
   "source": [
    "name, char=input(\"enter comma sep name and char:\").split(\",\")\n",
    "print(f\"length of your name is{len(name)}\")\n",
    "print(f\"character count:{name.lower().count(char.lower())}\")# L is used 4 times# , seprated alphabet will be counted"
   ]
  },
  {
   "cell_type": "code",
   "execution_count": 41,
   "metadata": {},
   "outputs": [
    {
     "name": "stdout",
     "output_type": "stream",
     "text": [
      "Lalit    ........\n",
      "    Lalit........\n",
      "Lalit........\n"
     ]
    }
   ],
   "source": [
    "name=\"    Lalit    \"\n",
    "dots=\"........\"\n",
    "print(name.lstrip()+dots)\n",
    "print(name.rstrip()+dots)\n",
    "print(name.strip()+dots)"
   ]
  },
  {
   "cell_type": "markdown",
   "metadata": {},
   "source": [
    "# Find & Replace"
   ]
  },
  {
   "cell_type": "code",
   "execution_count": 43,
   "metadata": {},
   "outputs": [
    {
     "name": "stdout",
     "output_type": "stream",
     "text": [
      "Lalit........\n"
     ]
    }
   ],
   "source": [
    "name=\"    La   lit    \"\n",
    "dots=\"........\"\n",
    "print(name.replace(\" \", \"\")+dots)"
   ]
  },
  {
   "cell_type": "code",
   "execution_count": 43,
   "metadata": {},
   "outputs": [
    {
     "name": "stdout",
     "output_type": "stream",
     "text": [
      "she was beautiful and she is good dancer\n",
      "4\n"
     ]
    }
   ],
   "source": [
    "string=\"she is beautiful and she is good dancer\"\n",
    "print(string.replace(\"is\",\"was\",1))\n",
    "is_pos1=string.find(\"is\")\n",
    "is_pos2=string.find(\"is\",is_pos1,19)\n",
    "print(is_pos2)"
   ]
  },
  {
   "cell_type": "code",
   "execution_count": 46,
   "metadata": {},
   "outputs": [
    {
     "name": "stdout",
     "output_type": "stream",
     "text": [
      "***Lalit***\n"
     ]
    }
   ],
   "source": [
    "name=\"Lalit\"\n",
    "print(name.center(11,\"*\"))"
   ]
  },
  {
   "cell_type": "code",
   "execution_count": 47,
   "metadata": {},
   "outputs": [
    {
     "name": "stdout",
     "output_type": "stream",
     "text": [
      "Enter your Name:Lalit\n",
      "*Lalit*\n"
     ]
    }
   ],
   "source": [
    "name=input(\"Enter your Name:\")\n",
    "print(name.center(len(name)+2,\"*\"))"
   ]
  },
  {
   "cell_type": "code",
   "execution_count": 48,
   "metadata": {},
   "outputs": [
    {
     "name": "stdout",
     "output_type": "stream",
     "text": [
      "harshit\n"
     ]
    }
   ],
   "source": [
    "name=\"harsh\"\n",
    "name=name+\"it\"\n",
    "print(name)"
   ]
  },
  {
   "cell_type": "code",
   "execution_count": 9,
   "metadata": {},
   "outputs": [
    {
     "name": "stdout",
     "output_type": "stream",
     "text": [
      "harshit\n",
      "54\n"
     ]
    }
   ],
   "source": [
    "name=\"harsh\"\n",
    "name +=\"it\"\n",
    "print(name)\n",
    "\n",
    "age=27\n",
    "age*=2\n",
    "print(age)"
   ]
  },
  {
   "cell_type": "markdown",
   "metadata": {},
   "source": [
    "# Chapter 3"
   ]
  },
  {
   "cell_type": "markdown",
   "metadata": {},
   "source": [
    "# If Else Statement"
   ]
  },
  {
   "cell_type": "code",
   "execution_count": 25,
   "metadata": {},
   "outputs": [
    {
     "name": "stdout",
     "output_type": "stream",
     "text": [
      "enter your age 12\n",
      "sorry you can't play\n"
     ]
    }
   ],
   "source": [
    "age=input(\"enter your age \")\n",
    "age=int(age)\n",
    "if age >= 14 :\n",
    "    print(\"you are above 14\")\n",
    "else:\n",
    "    print(\"sorry you can't play\")"
   ]
  },
  {
   "cell_type": "code",
   "execution_count": 49,
   "metadata": {},
   "outputs": [],
   "source": [
    "x=18\n",
    "if x>18:\n",
    "    pass"
   ]
  },
  {
   "cell_type": "markdown",
   "metadata": {},
   "source": [
    "# Excercise"
   ]
  },
  {
   "cell_type": "code",
   "execution_count": 21,
   "metadata": {},
   "outputs": [
    {
     "name": "stdout",
     "output_type": "stream",
     "text": [
      "enter number14\n",
      "too low\n"
     ]
    }
   ],
   "source": [
    "winning_number=15\n",
    "winning_number=int(winning_number)\n",
    "user_number=input(\"enter number\")\n",
    "user_number=int(user_number)\n",
    "if user_number==winning_number:\n",
    "    print(\"You Win\")\n",
    "else:\n",
    "    if user_number<winning_number:\n",
    "        print(\"too low\")\n",
    "    else:\n",
    "        print(\"Too high\")    "
   ]
  },
  {
   "cell_type": "markdown",
   "metadata": {},
   "source": [
    "# random number"
   ]
  },
  {
   "cell_type": "code",
   "execution_count": 9,
   "metadata": {},
   "outputs": [
    {
     "name": "stdout",
     "output_type": "stream",
     "text": [
      "2\n"
     ]
    }
   ],
   "source": [
    "import random\n",
    "number=random.randint(1,16)\n",
    "print(number)"
   ]
  },
  {
   "cell_type": "markdown",
   "metadata": {},
   "source": [
    "# Excercise "
   ]
  },
  {
   "cell_type": "code",
   "execution_count": 39,
   "metadata": {},
   "outputs": [
    {
     "name": "stdout",
     "output_type": "stream",
     "text": [
      "enter number3\n",
      "5\n",
      "Try again\n"
     ]
    }
   ],
   "source": [
    "import random\n",
    "user=input(\"enter number\")\n",
    "user=int(user)\n",
    "number=random.randint(1,5)\n",
    "print(number)\n",
    "number=int(number)\n",
    "if user==number:\n",
    "    print(\"You win\")\n",
    "else:\n",
    "    print(\"Try again\")"
   ]
  },
  {
   "cell_type": "markdown",
   "metadata": {},
   "source": [
    "# Excercise"
   ]
  },
  {
   "cell_type": "code",
   "execution_count": 6,
   "metadata": {},
   "outputs": [
    {
     "name": "stdout",
     "output_type": "stream",
     "text": [
      "10\n"
     ]
    }
   ],
   "source": [
    "import random\n",
    "number=random.randint(1,16)\n",
    "print(number)"
   ]
  },
  {
   "cell_type": "markdown",
   "metadata": {},
   "source": [
    "# And Or Operator"
   ]
  },
  {
   "cell_type": "code",
   "execution_count": 52,
   "metadata": {},
   "outputs": [
    {
     "name": "stdout",
     "output_type": "stream",
     "text": [
      "condition true\n"
     ]
    }
   ],
   "source": [
    "name=\"abc\"\n",
    "age=19\n",
    "if name==\"abc\" and age==19:\n",
    "    print(\"condition true\")\n",
    "else:\n",
    "    print(\"condition false\")"
   ]
  },
  {
   "cell_type": "code",
   "execution_count": 12,
   "metadata": {},
   "outputs": [
    {
     "name": "stdout",
     "output_type": "stream",
     "text": [
      "enter you nameAshish\n",
      "enter age10\n",
      "you can watch movie\n"
     ]
    }
   ],
   "source": [
    "name=input(\"enter you name\")\n",
    "age=input(\"enter age\")\n",
    "age=int(age)\n",
    "if age>=10 and(name[0]=='a' or name[0]=='A'):\n",
    "    print(\"you can watch movie\")\n",
    "else:\n",
    "    print(\"sorry,you cannot watch movie\")"
   ]
  },
  {
   "cell_type": "markdown",
   "metadata": {},
   "source": [
    "# if elif else statement"
   ]
  },
  {
   "cell_type": "code",
   "execution_count": 66,
   "metadata": {},
   "outputs": [
    {
     "name": "stdout",
     "output_type": "stream",
     "text": [
      "enter your age15\n",
      "Ticket price:250\n"
     ]
    }
   ],
   "source": [
    "#show ticket pricing\n",
    "#1 to 3 (free)\n",
    "#4 to 10 (100)\n",
    "#11 to 60(250)\n",
    "#above 60 (200)\n",
    "age = input(\"enter your age\")\n",
    "age=int(age)\n",
    "\n",
    "if age==0 or age<0 :\n",
    "    print(\"you can't watch\")\n",
    "elif 0<age<=3:\n",
    "    print(\"Ticket price free\")\n",
    "elif 3<age<=10: \n",
    "    print(\"Ticket price:100\")\n",
    "elif 10<age<=60: \n",
    "    print(\"Ticket price:250\")\n",
    "else: \n",
    "    print(\"Ticket price:200\")"
   ]
  },
  {
   "cell_type": "markdown",
   "metadata": {},
   "source": [
    "# if with in \n",
    "in keyword"
   ]
  },
  {
   "cell_type": "code",
   "execution_count": 70,
   "metadata": {},
   "outputs": [
    {
     "name": "stdout",
     "output_type": "stream",
     "text": [
      "I is not present\n"
     ]
    }
   ],
   "source": [
    "#to check specific character is present or not\n",
    "name=\"Lalit\"\n",
    "if 'I' in name:\n",
    "    print(\"I  is present in name\")\n",
    "else:\n",
    "    print(\"I is not present\")"
   ]
  },
  {
   "cell_type": "markdown",
   "metadata": {},
   "source": [
    "# check empty or not"
   ]
  },
  {
   "cell_type": "code",
   "execution_count": 86,
   "metadata": {},
   "outputs": [
    {
     "name": "stdout",
     "output_type": "stream",
     "text": [
      "Enter your name Lalit\n",
      "your name is Lalit\n"
     ]
    }
   ],
   "source": [
    "name=input(\"Enter your name\")\n",
    "if name:#true if string not empty\n",
    "    print(f\"your name is{name}\")\n",
    "else:\n",
    "    print(\"Empty\")"
   ]
  },
  {
   "cell_type": "markdown",
   "metadata": {},
   "source": [
    "# Loops, While loop, For Loop\n",
    "to print one word multiple times"
   ]
  },
  {
   "cell_type": "code",
   "execution_count": 1,
   "metadata": {},
   "outputs": [
    {
     "name": "stdout",
     "output_type": "stream",
     "text": [
      "hello world\n",
      "hello world\n",
      "hello world\n",
      "hello world\n",
      "hello world\n",
      "hello world\n",
      "hello world\n",
      "hello world\n",
      "hello world\n",
      "hello world\n"
     ]
    }
   ],
   "source": [
    "i=1\n",
    "while i<=10:\n",
    "    print(\"hello world\")\n",
    "    i=i+1    "
   ]
  },
  {
   "cell_type": "code",
   "execution_count": 6,
   "metadata": {},
   "outputs": [
    {
     "name": "stdout",
     "output_type": "stream",
     "text": [
      "hello world1\n",
      "hello world2\n",
      "hello world3\n",
      "hello world4\n",
      "hello world5\n",
      "hello world6\n",
      "hello world7\n",
      "hello world8\n",
      "hello world9\n",
      "hello world10\n"
     ]
    }
   ],
   "source": [
    "i=1 #i=2,i=3\n",
    "while i<=10:\n",
    "    print(f\"hello world{i}\")\n",
    "    i=i+1"
   ]
  },
  {
   "cell_type": "markdown",
   "metadata": {},
   "source": [
    "# sum:1 to 10(or any number)"
   ]
  },
  {
   "cell_type": "code",
   "execution_count": 15,
   "metadata": {},
   "outputs": [
    {
     "name": "stdout",
     "output_type": "stream",
     "text": [
      "1\n",
      "3\n",
      "6\n",
      "10\n",
      "15\n",
      "21\n",
      "28\n",
      "36\n",
      "45\n",
      "55\n"
     ]
    }
   ],
   "source": [
    "total=0\n",
    "i=1\n",
    "while i <=10:\n",
    "    total += i # total = total + 1\n",
    "    i += 1\n",
    "    print(total)"
   ]
  },
  {
   "cell_type": "code",
   "execution_count": null,
   "metadata": {},
   "outputs": [],
   "source": [
    "total=0\n",
    "i=1\n",
    "while i <=10:\n",
    "    total += i # total = total + 1\n",
    "    i=i+1\n",
    "    print(total)"
   ]
  },
  {
   "cell_type": "markdown",
   "metadata": {},
   "source": [
    "# Exercise\n",
    "ask number to user\n",
    "sum till number"
   ]
  },
  {
   "cell_type": "code",
   "execution_count": 14,
   "metadata": {},
   "outputs": [
    {
     "name": "stdout",
     "output_type": "stream",
     "text": [
      "enter number:10\n",
      "1\n",
      "3\n",
      "6\n",
      "10\n",
      "15\n",
      "21\n",
      "28\n",
      "36\n",
      "45\n",
      "55\n"
     ]
    }
   ],
   "source": [
    "n=input(\"enter number:\") \n",
    "n=int(n)\n",
    "total=0\n",
    "i=1\n",
    "while i <=n:\n",
    "    total += i\n",
    "    i += 1\n",
    "    print (total)"
   ]
  },
  {
   "cell_type": "markdown",
   "metadata": {},
   "source": [
    "# Excercise"
   ]
  },
  {
   "cell_type": "code",
   "execution_count": 23,
   "metadata": {},
   "outputs": [
    {
     "name": "stdout",
     "output_type": "stream",
     "text": [
      "enter number: 1112\n",
      "5\n"
     ]
    }
   ],
   "source": [
    "number=input(\"enter number: \")\n",
    "total=0\n",
    "i=0 # start position of number\n",
    "while i< len(number):\n",
    "    total += int(number[i])\n",
    "    i += 1\n",
    "print(total) #calculates the entered numbers= 1112 =1+1+1+2"
   ]
  },
  {
   "cell_type": "markdown",
   "metadata": {},
   "source": [
    "# Excercise"
   ]
  },
  {
   "cell_type": "code",
   "execution_count": 6,
   "metadata": {},
   "outputs": [
    {
     "name": "stdout",
     "output_type": "stream",
     "text": [
      "enter nameLalit\n",
      "1\n",
      "1\n",
      "1\n",
      "1\n"
     ]
    }
   ],
   "source": [
    "name=input(\"enter name\")\n",
    "print(name.count(\"l\")),name.count(name[0])\n",
    "print(name.count(\"a\")),name.count(name[1])\n",
    "print(name.count(\"i\")),\n",
    "print(name.count(\"t\"))\n"
   ]
  },
  {
   "cell_type": "markdown",
   "metadata": {},
   "source": [
    "# Infinite Loop"
   ]
  },
  {
   "cell_type": "code",
   "execution_count": 4,
   "metadata": {},
   "outputs": [],
   "source": [
    "#i=0\n",
    "#while i<=10:\n",
    "    #print(\"hello\")#will print now for infinite times"
   ]
  },
  {
   "cell_type": "markdown",
   "metadata": {},
   "source": [
    "# For Loop"
   ]
  },
  {
   "cell_type": "code",
   "execution_count": 9,
   "metadata": {},
   "outputs": [
    {
     "name": "stdout",
     "output_type": "stream",
     "text": [
      "Hello wolrd:1\n",
      "Hello wolrd:2\n",
      "Hello wolrd:3\n",
      "Hello wolrd:4\n",
      "Hello wolrd:5\n",
      "Hello wolrd:6\n",
      "Hello wolrd:7\n",
      "Hello wolrd:8\n",
      "Hello wolrd:9\n",
      "Hello wolrd:10\n"
     ]
    }
   ],
   "source": [
    "for i in range(1,11):\n",
    "    print(f\"Hello wolrd:{i}\")"
   ]
  },
  {
   "cell_type": "markdown",
   "metadata": {},
   "source": [
    "# excercise slide 63"
   ]
  },
  {
   "cell_type": "code",
   "execution_count": 18,
   "metadata": {},
   "outputs": [
    {
     "name": "stdout",
     "output_type": "stream",
     "text": [
      "1\n",
      "3\n",
      "6\n",
      "10\n",
      "15\n",
      "21\n",
      "28\n",
      "36\n",
      "45\n"
     ]
    }
   ],
   "source": [
    "total=0\n",
    "for i in range(1,10):\n",
    "    total+=i\n",
    "    print(total)"
   ]
  },
  {
   "cell_type": "code",
   "execution_count": 6,
   "metadata": {},
   "outputs": [
    {
     "name": "stdout",
     "output_type": "stream",
     "text": [
      "enter number:10\n",
      "55\n"
     ]
    }
   ],
   "source": [
    "n=int(input(\"enter number:\"))\n",
    "total=0\n",
    "for i in range(1,n+1):\n",
    "    total +=i\n",
    "print(total)\n"
   ]
  },
  {
   "cell_type": "markdown",
   "metadata": {},
   "source": [
    "# Break and Continue"
   ]
  },
  {
   "cell_type": "code",
   "execution_count": 40,
   "metadata": {},
   "outputs": [
    {
     "name": "stdout",
     "output_type": "stream",
     "text": [
      "1\n",
      "2\n",
      "3\n",
      "4\n"
     ]
    }
   ],
   "source": [
    "#BREAK\n",
    "for i in range(1,10):\n",
    "    if i ==5:\n",
    "        break\n",
    "    print(i)"
   ]
  },
  {
   "cell_type": "code",
   "execution_count": 12,
   "metadata": {},
   "outputs": [
    {
     "name": "stdout",
     "output_type": "stream",
     "text": [
      "1\n",
      "2\n",
      "3\n",
      "4\n",
      "6\n",
      "7\n",
      "8\n",
      "9\n",
      "10\n"
     ]
    }
   ],
   "source": [
    "#Continue\n",
    "#print 1 to 10, but not 5\n",
    "for i in range(1,11):\n",
    "    if i==5:\n",
    "        continue\n",
    "    print(i)"
   ]
  },
  {
   "cell_type": "markdown",
   "metadata": {},
   "source": [
    "# Excercise Slide 68"
   ]
  },
  {
   "cell_type": "code",
   "execution_count": 13,
   "metadata": {},
   "outputs": [
    {
     "name": "stdout",
     "output_type": "stream",
     "text": [
      "guess a number between 1 and 100:20\n",
      "to low\n",
      "guess again:55\n",
      "too high\n",
      "guess again:43\n",
      "you win,and you guessed number in 3 times\n"
     ]
    }
   ],
   "source": [
    "winning_number=43\n",
    "guess = 1\n",
    "number=int(input(\"guess a number between 1 and 100:\"))\n",
    "game_over=False\n",
    "while not game_over:\n",
    "    if number==winning_number:\n",
    "        print(f\"you win,and you guessed number in {guess} times\")  \n",
    "        game_over = True\n",
    "    else:\n",
    "        if number < winning_number:\n",
    "            print(\"to low\")\n",
    "            guess += 1\n",
    "            number=int(input(\"guess again:\"))\n",
    "        else:\n",
    "            print(\"too high\")\n",
    "            guess += 1\n",
    "            number=int(input(\"guess again:\"))"
   ]
  },
  {
   "cell_type": "code",
   "execution_count": 1,
   "metadata": {},
   "outputs": [
    {
     "name": "stdout",
     "output_type": "stream",
     "text": [
      "guess a number between 1 and 5:1\n",
      "1\n",
      "to low\n",
      "guess again:5\n",
      "you win,and you guessed number in 2 times\n"
     ]
    }
   ],
   "source": [
    "import random\n",
    "guess = 1\n",
    "number=int(input(\"guess a number between 1 and 5:\"))\n",
    "winning_number=random.randint(1,5)\n",
    "print(number)\n",
    "number=int(number)\n",
    "game_over=False\n",
    "while not game_over:\n",
    "    if number==winning_number:\n",
    "        print(f\"you win,and you guessed number in {guess} times\")  \n",
    "        game_over = True\n",
    "    else:\n",
    "        if number < winning_number:\n",
    "            print(\"to low\")\n",
    "            guess += 1\n",
    "            number=int(input(\"guess again:\"))\n",
    "        else:\n",
    "            print(\"too high\")\n",
    "            guess += 1\n",
    "            number=int(input(\"guess again:\"))   "
   ]
  },
  {
   "cell_type": "markdown",
   "metadata": {},
   "source": [
    "# Dry Principle -Slide 69\n",
    "means dont repeat yourself"
   ]
  },
  {
   "cell_type": "code",
   "execution_count": 50,
   "metadata": {},
   "outputs": [
    {
     "name": "stdout",
     "output_type": "stream",
     "text": [
      "guess a number between 1 and 100:20\n",
      "to low\n",
      "guess again:56\n",
      "too high\n",
      "guess again:43\n",
      "you win,and you guessed number in 3 times\n"
     ]
    }
   ],
   "source": [
    "winning_number=43\n",
    "guess = 1\n",
    "number=int(input(\"guess a number between 1 and 100:\"))\n",
    "game_over=False\n",
    "while not game_over:\n",
    "    if number==winning_number:\n",
    "        print(f\"you win,and you guessed number in {guess} times\")  \n",
    "        game_over = True   #could use;break \n",
    "    else:\n",
    "        if number < winning_number:\n",
    "            print(\"to low\")\n",
    "           \n",
    "        else:\n",
    "            print(\"too high\")\n",
    "        # could use only:\"continue\" from below     \n",
    "        #dry principle applied from beleow    \n",
    "        guess += 1                \n",
    "        number=int(input(\"guess again:\"))"
   ]
  },
  {
   "cell_type": "markdown",
   "metadata": {},
   "source": [
    "# STEP Argument - slide 70"
   ]
  },
  {
   "cell_type": "code",
   "execution_count": 1,
   "metadata": {},
   "outputs": [
    {
     "name": "stdout",
     "output_type": "stream",
     "text": [
      "0\n",
      "2\n",
      "4\n",
      "6\n",
      "8\n",
      "10\n"
     ]
    }
   ],
   "source": [
    "for i in range(0,11,2): # 0 to 11 numbers to print with gap of 2 \n",
    "    print(i)"
   ]
  },
  {
   "cell_type": "code",
   "execution_count": 7,
   "metadata": {},
   "outputs": [
    {
     "name": "stdout",
     "output_type": "stream",
     "text": [
      "10\n",
      "8\n",
      "6\n",
      "4\n",
      "2\n"
     ]
    }
   ],
   "source": [
    "for i in range(10,1,-2):   \n",
    "    print(i)"
   ]
  },
  {
   "cell_type": "markdown",
   "metadata": {},
   "source": [
    "# Slide 71"
   ]
  },
  {
   "cell_type": "code",
   "execution_count": 12,
   "metadata": {},
   "outputs": [
    {
     "name": "stdout",
     "output_type": "stream",
     "text": [
      "L\n",
      "a\n",
      "l\n",
      "i\n",
      "t\n"
     ]
    }
   ],
   "source": [
    "for i in \"Lalit\":\n",
    "    print(i)"
   ]
  },
  {
   "cell_type": "code",
   "execution_count": 14,
   "metadata": {},
   "outputs": [
    {
     "name": "stdout",
     "output_type": "stream",
     "text": [
      "enter number:123\n",
      "6\n"
     ]
    }
   ],
   "source": [
    "num=input(\"enter number:\")\n",
    "total=0\n",
    "for i in num:\n",
    "    total += int(i)\n",
    "print(total)"
   ]
  },
  {
   "cell_type": "markdown",
   "metadata": {},
   "source": [
    "# Chapter 4 "
   ]
  },
  {
   "cell_type": "markdown",
   "metadata": {},
   "source": [
    "## Functions,Slide 73"
   ]
  },
  {
   "cell_type": "code",
   "execution_count": 52,
   "metadata": {},
   "outputs": [
    {
     "name": "stdout",
     "output_type": "stream",
     "text": [
      "9\n"
     ]
    }
   ],
   "source": [
    "def add_two(a,b):\n",
    "    return a+b    #NEED TO WRITE THIS LINE TO DECLARE THE FUNCTION WHAT TO DO\n",
    "\n",
    "total = add_two(5,4)     # 5 is a & 4 is b\n",
    "print(total)"
   ]
  },
  {
   "cell_type": "code",
   "execution_count": 60,
   "metadata": {},
   "outputs": [
    {
     "name": "stdout",
     "output_type": "stream",
     "text": [
      "enter first num:3\n",
      "enter first num:3\n",
      "6\n",
      "enter first num:3\n",
      "enter first num:3\n",
      "6\n"
     ]
    }
   ],
   "source": [
    "a=int(input(\"enter first num:\"))\n",
    "b=int(input(\"enter first num:\"))\n",
    "total=add_two(a,b)\n",
    "print(total)\n",
    "\n",
    "#Another way to write\n",
    "\n",
    "a=int(input(\"enter first num:\"))\n",
    "b=int(input(\"enter first num:\"))\n",
    "print(add_two(a,b))"
   ]
  },
  {
   "cell_type": "markdown",
   "metadata": {},
   "source": [
    "## Print VS Return   Slide 74"
   ]
  },
  {
   "cell_type": "markdown",
   "metadata": {},
   "source": [
    "# Exercise  Slide 75"
   ]
  },
  {
   "cell_type": "code",
   "execution_count": 2,
   "metadata": {},
   "outputs": [
    {
     "data": {
      "text/plain": [
       "'t'"
      ]
     },
     "execution_count": 2,
     "metadata": {},
     "output_type": "execute_result"
    }
   ],
   "source": [
    "def last_char(name):\n",
    "    return name[-1]\n",
    "last_char(\"Lalit\")"
   ]
  },
  {
   "cell_type": "code",
   "execution_count": 1,
   "metadata": {},
   "outputs": [
    {
     "name": "stdout",
     "output_type": "stream",
     "text": [
      "even\n",
      "odd\n"
     ]
    }
   ],
   "source": [
    "def odd_even(num):\n",
    "    if num%2 == 0:       \n",
    "        return \"even\"\n",
    "    else:\n",
    "        return \"odd\"\n",
    "    \n",
    "print(odd_even(8))\n",
    "print(odd_even(9))"
   ]
  },
  {
   "cell_type": "markdown",
   "metadata": {},
   "source": [
    "# Slide 76\n",
    "\n",
    "Define greater within 2 Numbers"
   ]
  },
  {
   "cell_type": "code",
   "execution_count": 2,
   "metadata": {},
   "outputs": [
    {
     "name": "stdout",
     "output_type": "stream",
     "text": [
      "enter number 1:20\n",
      "enter number 2:35\n",
      "35 is greater\n"
     ]
    }
   ],
   "source": [
    "def greater(a,b):\n",
    "    if a>b:\n",
    "        return a\n",
    "    else:\n",
    "        return b\n",
    "num1=int(input(\"enter number 1:\"))\n",
    "num2=int(input(\"enter number 2:\"))\n",
    "bigger = greater(num1,num2)\n",
    "print(f\"{bigger} is greater\")"
   ]
  },
  {
   "cell_type": "markdown",
   "metadata": {},
   "source": [
    "# Slide 77\n",
    "Define greatest within 3 numbers"
   ]
  },
  {
   "cell_type": "code",
   "execution_count": 7,
   "metadata": {},
   "outputs": [
    {
     "name": "stdout",
     "output_type": "stream",
     "text": [
      "30\n"
     ]
    }
   ],
   "source": [
    "def greatest(a,b,c):\n",
    "    if a>b and a>c:\n",
    "        return a\n",
    "    elif b>c and b>a:\n",
    "        return b\n",
    "    else: \n",
    "        return c\n",
    "print(greatest(10,20,30))"
   ]
  },
  {
   "cell_type": "markdown",
   "metadata": {},
   "source": [
    "# Slide 80\n",
    "Palindrome Function"
   ]
  },
  {
   "cell_type": "code",
   "execution_count": 17,
   "metadata": {},
   "outputs": [
    {
     "name": "stdout",
     "output_type": "stream",
     "text": [
      "enter name:lalal\n",
      "True\n"
     ]
    }
   ],
   "source": [
    "def palindrome(name):\n",
    "    if name==name[::-1]:\n",
    "        return True\n",
    "    return False\n",
    "name=input(\"enter name:\")\n",
    "print(palindrome(name))"
   ]
  },
  {
   "cell_type": "markdown",
   "metadata": {},
   "source": [
    "# Slide 82\n",
    "Fibonacci Series\n",
    "0 1 1 2 3 5 8 13 21 34"
   ]
  },
  {
   "cell_type": "code",
   "execution_count": 22,
   "metadata": {},
   "outputs": [
    {
     "name": "stdout",
     "output_type": "stream",
     "text": [
      "1,2,3,4,5,6,7,8,9,10,"
     ]
    }
   ],
   "source": [
    "for i in range(1,11):\n",
    "    print(i, end=\",\")"
   ]
  },
  {
   "cell_type": "code",
   "execution_count": 27,
   "metadata": {},
   "outputs": [
    {
     "name": "stdout",
     "output_type": "stream",
     "text": [
      "0 11 2 3 5 8 13 21 34 "
     ]
    }
   ],
   "source": [
    "def fibonacci_seq(n):\n",
    "        a=0 # first num\n",
    "        b=1 # second num\n",
    "        if n==1:\n",
    "            print(a)\n",
    "        elif n==2:\n",
    "            print(a,b) #a b, 0 1\n",
    "        else:\n",
    "            print(a,b, end =\"\")\n",
    "            for i in range(n-2):\n",
    "                c = a+b \n",
    "                a = b   \n",
    "                b = c   \n",
    "                print(b, end = \" \")\n",
    "                \n",
    "fibonacci_seq(10)"
   ]
  },
  {
   "cell_type": "markdown",
   "metadata": {},
   "source": [
    "# Slide 83\n",
    "Default parameters"
   ]
  },
  {
   "cell_type": "code",
   "execution_count": 23,
   "metadata": {},
   "outputs": [
    {
     "name": "stdout",
     "output_type": "stream",
     "text": [
      "your first name is lalit\n",
      "your last name is Jagtap\n",
      "your age is 25\n"
     ]
    }
   ],
   "source": [
    "def user_info(first_name,last_name,age):\n",
    "    print(f\"your first name is {first_name}\")\n",
    "    print(f\"your last name is {last_name}\")\n",
    "    print(f\"your age is {age}\")\n",
    "    \n",
    "user_info(\"lalit\",\"Jagtap\",\"25\")\n",
    "   "
   ]
  },
  {
   "cell_type": "code",
   "execution_count": 34,
   "metadata": {},
   "outputs": [
    {
     "name": "stdout",
     "output_type": "stream",
     "text": [
      "your first name is unknown\n",
      "your last name is Jagtap\n",
      "your age is 25\n"
     ]
    }
   ],
   "source": [
    "# Also can write this way\n",
    "\n",
    "def user_info(last_name,age,first_name = 'unknown'):\n",
    "    print(f\"your first name is {first_name}\")\n",
    "    print(f\"your last name is {last_name}\")\n",
    "    print(f\"your age is {age}\")\n",
    "\n",
    "user_info(\"Jagtap\",\"25\")"
   ]
  },
  {
   "cell_type": "markdown",
   "metadata": {},
   "source": [
    "# Slide 84\n",
    "Variable Scope"
   ]
  },
  {
   "cell_type": "code",
   "execution_count": 26,
   "metadata": {},
   "outputs": [
    {
     "name": "stdout",
     "output_type": "stream",
     "text": [
      "5\n",
      "7\n",
      "7\n"
     ]
    }
   ],
   "source": [
    "x = 5# global variable\n",
    "\n",
    "def func():\n",
    "    global x\n",
    "    x = 7 # local variable\n",
    "    return x\n",
    "\n",
    "print (x)\n",
    "print (func())\n",
    "print (x)"
   ]
  },
  {
   "cell_type": "markdown",
   "metadata": {},
   "source": [
    "# Chapter 5"
   ]
  },
  {
   "cell_type": "markdown",
   "metadata": {},
   "source": [
    "### List \n",
    "ordered collection of items"
   ]
  },
  {
   "cell_type": "code",
   "execution_count": null,
   "metadata": {},
   "outputs": [],
   "source": []
  },
  {
   "cell_type": "markdown",
   "metadata": {},
   "source": [
    "### Append Method - Add Data to List"
   ]
  },
  {
   "cell_type": "code",
   "execution_count": 1,
   "metadata": {},
   "outputs": [
    {
     "name": "stdout",
     "output_type": "stream",
     "text": [
      "['grapes', 'apple', 'mango']\n"
     ]
    }
   ],
   "source": [
    "#how to add item to list\n",
    "fruits = ['grapes', 'apple']\n",
    "fruits.append('mango')\n",
    "print(fruits)"
   ]
  },
  {
   "cell_type": "code",
   "execution_count": 5,
   "metadata": {},
   "outputs": [
    {
     "name": "stdout",
     "output_type": "stream",
     "text": [
      "['mango', 'grapes', 'Apple']\n"
     ]
    }
   ],
   "source": [
    "fruits = []\n",
    "fruits.append('mango')\n",
    "fruits.append('grapes')\n",
    "fruits.append('Apple')\n",
    "print(fruits)"
   ]
  },
  {
   "cell_type": "markdown",
   "metadata": {},
   "source": [
    "### Methods to add Data"
   ]
  },
  {
   "cell_type": "code",
   "execution_count": 11,
   "metadata": {},
   "outputs": [
    {
     "name": "stdout",
     "output_type": "stream",
     "text": [
      "['mango', 'grapes', 'orange']\n",
      "['mango', 'orange', 'grapes']\n"
     ]
    }
   ],
   "source": [
    "# Insert Method\n",
    "fruits1 = ['mango','orange']\n",
    "fruits1.insert(1,\"grapes\")\n",
    "print(fruits1)\n",
    "\n",
    "fruits1 = ['mango','orange']\n",
    "fruits1.insert(2,\"grapes\") # 2 includes the position of grapes\n",
    "print(fruits1)"
   ]
  },
  {
   "cell_type": "code",
   "execution_count": 14,
   "metadata": {},
   "outputs": [
    {
     "name": "stdout",
     "output_type": "stream",
     "text": [
      "['mango', 'orange', 'grapes', 'apple']\n"
     ]
    }
   ],
   "source": [
    "#How to Join / Concatenate\n",
    "fruits1 = ['mango','orange']\n",
    "fruits2 =['grapes','apple']\n",
    "fruits = fruits1 + fruits2\n",
    "print(fruits)"
   ]
  },
  {
   "cell_type": "code",
   "execution_count": 18,
   "metadata": {},
   "outputs": [
    {
     "name": "stdout",
     "output_type": "stream",
     "text": [
      "['mango', 'orange', 'grapes', 'apple']\n",
      "['grapes', 'apple']\n"
     ]
    }
   ],
   "source": [
    "# Extend Method\n",
    "fruits1 = ['mango','orange']\n",
    "fruits2 =['grapes','apple']\n",
    "fruits1.extend(fruits2)\n",
    "print(fruits1)\n",
    "print(fruits2)"
   ]
  },
  {
   "cell_type": "markdown",
   "metadata": {},
   "source": [
    "### Difference Betweeen Append and Extend"
   ]
  },
  {
   "cell_type": "code",
   "execution_count": 22,
   "metadata": {},
   "outputs": [
    {
     "name": "stdout",
     "output_type": "stream",
     "text": [
      "['mango', 'orange', ['grapes', 'apple']]\n"
     ]
    }
   ],
   "source": [
    "fruits1 = ['mango','orange']\n",
    "fruits2 =['grapes','apple']\n",
    "fruits1.append(fruits2)     # list inside one list\n",
    "print(fruits1)"
   ]
  },
  {
   "cell_type": "markdown",
   "metadata": {},
   "source": [
    "### Method to Delete Data from list   (Slide 88)"
   ]
  },
  {
   "cell_type": "code",
   "execution_count": 26,
   "metadata": {},
   "outputs": [
    {
     "name": "stdout",
     "output_type": "stream",
     "text": [
      "['mango', 'orange', 'apple', 'pear', 'banana']\n"
     ]
    }
   ],
   "source": [
    "# pop Method\n",
    "fruits = ['mango','orange','apple','pear','banana','kiwi']\n",
    "fruits.pop()     # can insert the position Number\n",
    "print(fruits)"
   ]
  },
  {
   "cell_type": "code",
   "execution_count": 29,
   "metadata": {},
   "outputs": [
    {
     "name": "stdout",
     "output_type": "stream",
     "text": [
      "['mango', 'apple', 'pear', 'banana', 'kiwi']\n"
     ]
    }
   ],
   "source": [
    "# del Operator\n",
    "fruits = ['mango','orange','apple','pear','banana','kiwi']\n",
    "del fruits[1]\n",
    "print(fruits)"
   ]
  },
  {
   "cell_type": "code",
   "execution_count": 74,
   "metadata": {},
   "outputs": [
    {
     "name": "stdout",
     "output_type": "stream",
     "text": [
      "['mango', 'orange', 'apple', 'pear', 'kiwi', 'banana']\n"
     ]
    }
   ],
   "source": [
    "# remove Method\n",
    "fruits = ['mango','orange','apple','pear','banana','kiwi','banana']\n",
    "fruits.remove('banana')  # If you don't know position can write the word and use remove operator\n",
    "print(fruits)         # there are two words 'banana' it will remove first word only "
   ]
  },
  {
   "cell_type": "markdown",
   "metadata": {},
   "source": [
    "### In keyword with list   (Slide 89)"
   ]
  },
  {
   "cell_type": "code",
   "execution_count": 75,
   "metadata": {},
   "outputs": [
    {
     "name": "stdout",
     "output_type": "stream",
     "text": [
      "mango is present\n"
     ]
    }
   ],
   "source": [
    "fruits = ['mango','orange','apple']\n",
    "if 'mango' in fruits:\n",
    "    print(\"mango is present\")\n",
    "else:\n",
    "    (\"not present\")"
   ]
  },
  {
   "cell_type": "markdown",
   "metadata": {},
   "source": [
    "### More types of Methods  (Slide 90)\n",
    "        #count #sort #sorted#reverse#clear #copy"
   ]
  },
  {
   "cell_type": "code",
   "execution_count": 43,
   "metadata": {},
   "outputs": [
    {
     "name": "stdout",
     "output_type": "stream",
     "text": [
      "2\n"
     ]
    }
   ],
   "source": [
    "#count\n",
    "fruits = ['mango','orange','apple','pear','banana','kiwi','banana']\n",
    "print(fruits.count('banana'))  "
   ]
  },
  {
   "cell_type": "code",
   "execution_count": 63,
   "metadata": {},
   "outputs": [
    {
     "name": "stdout",
     "output_type": "stream",
     "text": [
      "['apple', 'banana', 'banana', 'kiwi', 'mango', 'orange', 'pear']\n",
      "[1, 2, 3, 4, 5, 9]\n",
      "['mango', 'orange', 'apple', 'pear', 'banana', 'kiwi', 'banana']\n"
     ]
    }
   ],
   "source": [
    "#sort \n",
    "fruits = ['mango','orange','apple','pear','banana','kiwi','banana']\n",
    "fruits.sort()\n",
    "print(fruits)  # will sort alphabetically\n",
    "\n",
    "fruits = ['mango','orange','apple','pear','banana','kiwi','banana']\n",
    "numbers = [3,1,5,9,4,2]\n",
    "numbers.sort()\n",
    "print(numbers)\n",
    "print(fruits)"
   ]
  },
  {
   "cell_type": "code",
   "execution_count": 65,
   "metadata": {},
   "outputs": [
    {
     "name": "stdout",
     "output_type": "stream",
     "text": [
      "[1, 2, 3, 4, 5, 9]\n",
      "['mango', 'orange', 'apple', 'pear', 'banana', 'kiwi', 'banana']\n"
     ]
    }
   ],
   "source": [
    "#sorted\n",
    "fruits = ['mango','orange','apple','pear','banana','kiwi','banana']\n",
    "numbers = [3,1,5,9,4,2]\n",
    "print(sorted(numbers)) #only prints in sorted order\n",
    "print(fruits)"
   ]
  },
  {
   "cell_type": "code",
   "execution_count": 72,
   "metadata": {},
   "outputs": [
    {
     "name": "stdout",
     "output_type": "stream",
     "text": [
      "[16, 9, 1, 3, 7, 4, 6]\n"
     ]
    }
   ],
   "source": [
    "#reverse\n",
    "numbers=[6,4,7,3,1,9,16]\n",
    "numbers.reverse()\n",
    "print(numbers)"
   ]
  },
  {
   "cell_type": "code",
   "execution_count": null,
   "metadata": {},
   "outputs": [],
   "source": [
    "#clear - to clear the printed porgram"
   ]
  },
  {
   "cell_type": "code",
   "execution_count": 70,
   "metadata": {},
   "outputs": [
    {
     "name": "stdout",
     "output_type": "stream",
     "text": [
      "[3, 1, 5, 9, 4, 2]\n"
     ]
    }
   ],
   "source": [
    "#copy - to make another copy \n",
    "fruits = ['mango','orange','apple','pear','banana','kiwi','banana']\n",
    "numbers = [3,1,5,9,4,2]\n",
    "numbers_copy = numbers.copy()\n",
    "print(numbers_copy)"
   ]
  },
  {
   "cell_type": "markdown",
   "metadata": {},
   "source": [
    "### is vs equal '=='    (Slide 91)"
   ]
  },
  {
   "cell_type": "code",
   "execution_count": 1,
   "metadata": {},
   "outputs": [
    {
     "name": "stdout",
     "output_type": "stream",
     "text": [
      "True\n",
      "False\n"
     ]
    }
   ],
   "source": [
    "fruits1 = ['orange','apple','pear']\n",
    "fruits2 = ['orange','apple','pear']\n",
    "fruits3 = ['banana','orange','kiwi']\n",
    "print(fruits1 == fruits2)   # '==' to check valuses are same or not\n",
    "print(fruits1 is fruits2)   #False - 'is' to check object"
   ]
  },
  {
   "cell_type": "markdown",
   "metadata": {},
   "source": [
    "### 'join' and 'split' method    ( Slide 92)"
   ]
  },
  {
   "cell_type": "code",
   "execution_count": 38,
   "metadata": {},
   "outputs": [
    {
     "name": "stdout",
     "output_type": "stream",
     "text": [
      "['Lalit', '26']\n"
     ]
    }
   ],
   "source": [
    "#split - convert string in list \n",
    "user_info = 'Lalit 26'.split()\n",
    "print(user_info)"
   ]
  },
  {
   "cell_type": "code",
   "execution_count": 45,
   "metadata": {},
   "outputs": [
    {
     "name": "stdout",
     "output_type": "stream",
     "text": [
      "Lalit,26\n"
     ]
    }
   ],
   "source": [
    "#join - convert list to string\n",
    "user_info = ['Lalit','26'] # if 24 is in 'int'will show  error \n",
    "print(','.join(user_info))"
   ]
  },
  {
   "cell_type": "markdown",
   "metadata": {},
   "source": [
    "### List vs Array (Slide 93)\n"
   ]
  },
  {
   "cell_type": "code",
   "execution_count": null,
   "metadata": {},
   "outputs": [],
   "source": [
    "#Array means ordered collection of Items\n",
    "#Stores like int, string -Fix data type"
   ]
  },
  {
   "cell_type": "code",
   "execution_count": null,
   "metadata": {},
   "outputs": [],
   "source": [
    "#List stores any Data"
   ]
  },
  {
   "cell_type": "markdown",
   "metadata": {},
   "source": [
    "### List vs String  (Slide 94)"
   ]
  },
  {
   "cell_type": "code",
   "execution_count": 55,
   "metadata": {},
   "outputs": [],
   "source": [
    "#String are Immutable\n",
    "#List are Mutable\n",
    "\n",
    "s = \"string\" # cannot change this \n",
    "\n",
    "l = ['word1','word2','word3']  # is list,can change add by using append or remove by pop  "
   ]
  },
  {
   "cell_type": "markdown",
   "metadata": {},
   "source": [
    "### Looping in LIST (Slide 95)"
   ]
  },
  {
   "cell_type": "markdown",
   "metadata": {},
   "source": [
    "### List inside List (Slide 96)"
   ]
  },
  {
   "cell_type": "code",
   "execution_count": 58,
   "metadata": {},
   "outputs": [
    {
     "name": "stdout",
     "output_type": "stream",
     "text": [
      "[7, 8, 9]\n"
     ]
    }
   ],
   "source": [
    "matrix = [[1,2,3],[4,5,6],[7,8,9]]\n",
    "print(matrix[2]) # will print '2' position bracket"
   ]
  },
  {
   "cell_type": "code",
   "execution_count": 62,
   "metadata": {},
   "outputs": [
    {
     "name": "stdout",
     "output_type": "stream",
     "text": [
      "4\n"
     ]
    }
   ],
   "source": [
    "matrix = [[1,2,3],[4,5,6],[7,8,9]]\n",
    "print(matrix[1][0])"
   ]
  },
  {
   "cell_type": "code",
   "execution_count": 64,
   "metadata": {},
   "outputs": [
    {
     "name": "stdout",
     "output_type": "stream",
     "text": [
      "<class 'str'>\n",
      "<class 'list'>\n"
     ]
    }
   ],
   "source": [
    "s = \"Lalit\"\n",
    "print(type(s))     \n",
    "print(type(matrix)) "
   ]
  },
  {
   "cell_type": "markdown",
   "metadata": {},
   "source": [
    "### Lists (Slide 97)"
   ]
  },
  {
   "cell_type": "code",
   "execution_count": 10,
   "metadata": {},
   "outputs": [
    {
     "name": "stdout",
     "output_type": "stream",
     "text": [
      "1\n",
      "2\n",
      "3\n",
      "4\n",
      "[1, 2, 3, 4]\n"
     ]
    }
   ],
   "source": [
    "# More about Range function\n",
    "\n",
    "for i in range(1,5):\n",
    "    print(i)\n",
    "# Another way to print the same\n",
    "\n",
    "numbers = list(range(1,5))\n",
    "print(numbers)"
   ]
  },
  {
   "cell_type": "code",
   "execution_count": 7,
   "metadata": {},
   "outputs": [
    {
     "name": "stdout",
     "output_type": "stream",
     "text": [
      "[1, 2, 3]\n",
      "4\n"
     ]
    }
   ],
   "source": [
    "#More about pop()\n",
    "\n",
    "numbers = list(range(1,5))\n",
    "popped_item = numbers.pop()\n",
    "print(numbers)   # removes last position number\n",
    "\n",
    "# OR\n",
    "\n",
    "numbers = list(range(1,5))\n",
    "print(numbers.pop())   # Shows last position number"
   ]
  },
  {
   "cell_type": "code",
   "execution_count": 48,
   "metadata": {},
   "outputs": [
    {
     "name": "stdout",
     "output_type": "stream",
     "text": [
      "1\n",
      "8\n"
     ]
    }
   ],
   "source": [
    "#Index Method\n",
    "\n",
    "numbers = list(range(1,5))\n",
    "print(numbers.index(2)) # tells position of entered number '2'\n",
    "\n",
    "# OR\n",
    "\n",
    "numbers = [1,2,3,4,5,6,7,8,1,9,10,11,12,13,14,1]\n",
    "print(numbers.index(1,4,12)) # '1' is two times. '3' will start searching from third position for '1'\n",
    "                                #'12' is stop position of searching"
   ]
  },
  {
   "cell_type": "code",
   "execution_count": 58,
   "metadata": {},
   "outputs": [
    {
     "name": "stdout",
     "output_type": "stream",
     "text": [
      "[-1, -2, -3, -4, -5, -6, -7, -8, -9, -10]\n"
     ]
    }
   ],
   "source": [
    "#Pass list to a function\n",
    "# how to print a neagtive numbers:\n",
    "\n",
    "numbers = [1,2,3,4,5,6,7,8,9,10]\n",
    "def negative_list(l):\n",
    "    negative = []\n",
    "    for i in l:\n",
    "        negative.append(-i)\n",
    "    return negative\n",
    "\n",
    "print(negative_list(numbers))"
   ]
  },
  {
   "cell_type": "markdown",
   "metadata": {},
   "source": [
    "### Exercise (Slide 98) "
   ]
  },
  {
   "cell_type": "code",
   "execution_count": 69,
   "metadata": {},
   "outputs": [
    {
     "name": "stdout",
     "output_type": "stream",
     "text": [
      "[1, 4, 9, 16, 25, 36, 49, 64, 81, 100]\n"
     ]
    }
   ],
   "source": [
    "#numbers = [1,2,3,4]  # to create Square of all numbers\n",
    "#square_list(numbers) ----> return -----> [1,4,9,16]  \n",
    "\n",
    "def square_list(l):\n",
    "    square = []\n",
    "    for i in l:\n",
    "        square.append(i**2) # or acan use i*i\n",
    "    return square\n",
    "numbers = list(range(1,11))\n",
    "print(square_list(numbers))"
   ]
  },
  {
   "cell_type": "markdown",
   "metadata": {},
   "source": [
    "### Exercise (Slide 100)"
   ]
  },
  {
   "cell_type": "code",
   "execution_count": 4,
   "metadata": {},
   "outputs": [
    {
     "name": "stdout",
     "output_type": "stream",
     "text": [
      "[4, 3, 2, 1]\n",
      "[4, 3, 2, 1]\n"
     ]
    }
   ],
   "source": [
    "# reverse the numbers\n",
    "\n",
    "\n",
    "def reverse_list(l):\n",
    "    l.reverse()\n",
    "    return l\n",
    "numbers = [1,2,3,4]\n",
    "print(reverse_list(numbers))\n",
    "\n",
    "# Or \n",
    "\n",
    "def reverse_list(l):\n",
    "    return l[::-1]\n",
    "numbers = [1,2,3,4]\n",
    "print(reverse_list(numbers))"
   ]
  },
  {
   "cell_type": "code",
   "execution_count": 10,
   "metadata": {},
   "outputs": [
    {
     "name": "stdout",
     "output_type": "stream",
     "text": [
      "[(4, 3, 2, 1)]\n"
     ]
    }
   ],
   "source": [
    "def reverse_list(l):\n",
    "    reverse=[]\n",
    "\n",
    "    y=l[::-1]\n",
    "\n",
    "    reverse.append(y)\n",
    "\n",
    "    return reverse \n",
    "\n",
    "number=1,2,3,4\n",
    "print(reverse_list(number))"
   ]
  },
  {
   "cell_type": "markdown",
   "metadata": {},
   "source": [
    "### Exercise (Slide 102)"
   ]
  },
  {
   "cell_type": "code",
   "execution_count": 16,
   "metadata": {},
   "outputs": [
    {
     "name": "stdout",
     "output_type": "stream",
     "text": [
      "['cba', 'vut', 'zyx']\n"
     ]
    }
   ],
   "source": [
    "def reverse_elements(l):\n",
    "    elements = []\n",
    "    for i in l:\n",
    "        elements.append(i[::-1])\n",
    "    return elements\n",
    "        \n",
    "words = ['abc','tuv','xyz']\n",
    "print(reverse_elements(words))"
   ]
  },
  {
   "cell_type": "markdown",
   "metadata": {},
   "source": [
    "### Exercise Slide(104)"
   ]
  },
  {
   "cell_type": "code",
   "execution_count": 20,
   "metadata": {},
   "outputs": [
    {
     "name": "stdout",
     "output_type": "stream",
     "text": [
      "[[1, 3, 5, 7], [2, 4, 6]]\n"
     ]
    }
   ],
   "source": [
    "#Filter odd even \n",
    "\n",
    "def filter_odd_even(l):\n",
    "    odd_nums = []\n",
    "    even_nums = []\n",
    "    for i in l:\n",
    "        if i%2 == 0:\n",
    "            even_nums.append(i)\n",
    "        else:\n",
    "            odd_nums.append(i)\n",
    "    output = [odd_nums,even_nums]\n",
    "    return output\n",
    "\n",
    "nums = [1,2,3,4,5,6,7]\n",
    "print(filter_odd_even(nums))"
   ]
  },
  {
   "cell_type": "markdown",
   "metadata": {},
   "source": [
    "### Exercise (Slide 106)"
   ]
  },
  {
   "cell_type": "code",
   "execution_count": 29,
   "metadata": {},
   "outputs": [
    {
     "name": "stdout",
     "output_type": "stream",
     "text": [
      "[1, 2, 8]\n"
     ]
    }
   ],
   "source": [
    "#input ----> [1,2,5,8],[1,2,7,6]\n",
    "#output ---> [1,2]\n",
    "\n",
    "#logic\n",
    "\n",
    "def common_finder(l1, l2):\n",
    "    output = []\n",
    "    for i in l1:\n",
    "        if i in l2:\n",
    "            output.append(i)\n",
    "    return output\n",
    "print(common_finder([1,2,5,8], [1,2,7,6,8]))       "
   ]
  },
  {
   "cell_type": "markdown",
   "metadata": {},
   "source": [
    "\n",
    "### Min & Max Function (Slide 108)"
   ]
  },
  {
   "cell_type": "code",
   "execution_count": 32,
   "metadata": {},
   "outputs": [
    {
     "name": "stdout",
     "output_type": "stream",
     "text": [
      "60\n",
      "2\n",
      "58\n"
     ]
    }
   ],
   "source": [
    "numbers = [6,60,2]\n",
    "print(max(numbers))\n",
    "print(min(numbers))\n",
    "\n",
    "#---------------\n",
    "\n",
    "def greatest_diff(l):\n",
    "    return max(l) - min(l) \n",
    "\n",
    "print(greatest_diff(numbers))"
   ]
  },
  {
   "cell_type": "markdown",
   "metadata": {},
   "source": [
    "### Exercise (Slide 109)"
   ]
  },
  {
   "cell_type": "code",
   "execution_count": 50,
   "metadata": {},
   "outputs": [
    {
     "name": "stdout",
     "output_type": "stream",
     "text": [
      "3\n"
     ]
    }
   ],
   "source": [
    "def sublist_counter(l):\n",
    "    count = 0\n",
    "    for i in l:\n",
    "        if type(i) == list:\n",
    "            count += 1\n",
    "            \n",
    "    return count\n",
    "mixed = [1,2,3, [1,2], [3,4], [5,6]]\n",
    "print(sublist_counter(mixed))"
   ]
  },
  {
   "cell_type": "markdown",
   "metadata": {},
   "source": [
    "## Chapter 6 Tuples"
   ]
  },
  {
   "cell_type": "markdown",
   "metadata": {},
   "source": [
    "## Chapter 7 Dictionary"
   ]
  },
  {
   "cell_type": "markdown",
   "metadata": {},
   "source": [
    "### Dictionary  (Slide 117)"
   ]
  },
  {
   "cell_type": "code",
   "execution_count": 61,
   "metadata": {},
   "outputs": [
    {
     "name": "stdout",
     "output_type": "stream",
     "text": [
      "['coco', 'kimi no na wa']\n",
      "\n",
      "Check if key value exist in dictionary:- \n",
      "not present\n",
      "\n",
      "Loops in Dictionaries:- \n",
      "Lalit\n",
      "26\n",
      "['coco', 'kimi no na wa']\n",
      "['awakening', 'fairy tale']\n",
      "\n",
      "Values method:- \n",
      "dict_values(['Lalit', '26', ['coco', 'kimi no na wa'], ['awakening', 'fairy tale']])\n",
      "<class 'dict_values'>\n",
      "\n",
      "item methods:- \n",
      "dict_items([('name', 'Lalit'), ('age', '26'), ('fav_movies', ['coco', 'kimi no na wa']), ('fav_tunes', ['awakening', 'fairy tale'])])\n",
      "<class 'dict_items'>\n"
     ]
    }
   ],
   "source": [
    "user_info = {\n",
    "    'name' : 'Lalit',\n",
    "    'age'  :  '26',\n",
    "    'fav_movies' : ['coco','kimi no na wa'],\n",
    "    'fav_tunes'  : ['awakening','fairy tale'],\n",
    "    }\n",
    "print(user_info['fav_movies'])\n",
    "\n",
    "# Check if key value exist in dictionary\n",
    "print(\"\\nCheck if key value exist in dictionary:- \")\n",
    "\n",
    "if 26 in user_info.values():\n",
    "    print('present')\n",
    "else:\n",
    "    print('not present')\n",
    "    \n",
    "#Loops in Dictionaries\n",
    "print(\"\\nLoops in Dictionaries:- \")\n",
    "\n",
    "for i in user_info.values():\n",
    "    print(i)\n",
    "    \n",
    "# Values method\n",
    "print(\"\\nValues method:- \")\n",
    "\n",
    "user_info_values = user_info.values()\n",
    "print(user_info_values)\n",
    "print(type(user_info_values))\n",
    "\n",
    "\n",
    "#item methods\n",
    "print(\"\\nitem methods:- \")\n",
    "\n",
    "user_items = user_info.items()\n",
    "print(user_items)\n",
    "print(type(user_items))"
   ]
  },
  {
   "cell_type": "markdown",
   "metadata": {},
   "source": [
    "### Add & Del Data (Slide 119)\n",
    "\n"
   ]
  },
  {
   "cell_type": "code",
   "execution_count": 62,
   "metadata": {},
   "outputs": [
    {
     "name": "stdout",
     "output_type": "stream",
     "text": [
      "{'name': 'Lalit', 'age': '26', 'fav_movies': ['coco', 'kimi no na wa'], 'fav_tunes': ['awakening', 'fairy tale'], 'fav_song': ['song 1', 'song 2']}\n",
      "\n",
      "pop methods:-  \n",
      "popped item is ['awakening', 'fairy tale']\n",
      "{'name': 'Lalit', 'age': '26', 'fav_movies': ['coco', 'kimi no na wa'], 'fav_song': ['song 1', 'song 2']}\n",
      "\n",
      "pop item methods:-  \n",
      "{'name': 'Lalit', 'age': '26', 'fav_movies': ['coco', 'kimi no na wa']}\n",
      "('fav_song', ['song 1', 'song 2'])\n",
      "<class 'tuple'>\n"
     ]
    }
   ],
   "source": [
    "user_info = {\n",
    "    'name' : 'Lalit',\n",
    "    'age'  :  '26',\n",
    "    'fav_movies' : ['coco','kimi no na wa'],\n",
    "    'fav_tunes'  : ['awakening','fairy tale'],\n",
    "    }\n",
    "\n",
    "# how to add data\n",
    "user_info['fav_song'] = ['song 1', 'song 2']\n",
    "print(user_info)\n",
    "\n",
    "#pop methods\n",
    "print(\"\\npop methods:-  \")\n",
    "\n",
    "popped_item = user_info.pop('fav_tunes')\n",
    "print(f\"popped item is {popped_item}\")\n",
    "print(user_info)\n",
    "\n",
    "#pop item methods\n",
    "#next \n",
    "print(\"\\npop item methods:-  \")\n",
    "\n",
    "popped_item = user_info.popitem()\n",
    "print(user_info)\n",
    "print(popped_item)\n",
    "print(type(popped_item))"
   ]
  },
  {
   "cell_type": "markdown",
   "metadata": {},
   "source": [
    "### Update (Slide 120)"
   ]
  },
  {
   "cell_type": "code",
   "execution_count": 2,
   "metadata": {},
   "outputs": [
    {
     "name": "stdout",
     "output_type": "stream",
     "text": [
      "{'name': 'Lalit', 'age': '26', 'fav_movies': ['coco', 'kimi no na wa'], 'fav_tunes': ['awakening', 'fairy tale'], 'state': 'Haryana', 'hobbies': ['coding', 'reading', 'guitar']}\n"
     ]
    }
   ],
   "source": [
    "user_info = {\n",
    "    'name' : 'Lalit',\n",
    "    'age'  :  '26',\n",
    "    'fav_movies' : ['coco','kimi no na wa'],\n",
    "    'fav_tunes'  : ['awakening','fairy tale'],\n",
    "    }\n",
    "more_info = {'state' : 'Haryana', 'hobbies': ['coding','reading','guitar']}\n",
    "\n",
    "user_info.update(more_info)\n",
    "print(user_info)"
   ]
  },
  {
   "cell_type": "markdown",
   "metadata": {},
   "source": [
    "### fromkeys, get, copy, clear (Slide 121)"
   ]
  },
  {
   "cell_type": "code",
   "execution_count": 63,
   "metadata": {},
   "outputs": [
    {
     "name": "stdout",
     "output_type": "stream",
     "text": [
      "{'name': 'unknown', 'age': 'unknown', 'height': 'unknown'}\n",
      "\n",
      "Next:-  \n",
      "{1: 'unknown', 2: 'unknown', 3: 'unknown', 4: 'unknown', 5: 'unknown', 6: 'unknown', 7: 'unknown', 8: 'unknown', 9: 'unknown', 10: 'unknown'}\n"
     ]
    }
   ],
   "source": [
    "# fromkeys\n",
    "# d = dict.fromkeys{'name': 'unknown', 'age' = 'unknown'}\n",
    "\n",
    "d = dict.fromkeys(['name','age','height'],'unknown') # can write Tupple instead of List\n",
    "print(d)\n",
    "\n",
    "#next \n",
    "print(\"\\nNext:-  \")\n",
    "\n",
    "d=dict.fromkeys(range(1,11),'unknown')\n",
    "print(d)"
   ]
  },
  {
   "cell_type": "code",
   "execution_count": 109,
   "metadata": {},
   "outputs": [
    {
     "name": "stdout",
     "output_type": "stream",
     "text": [
      "Lalit\n",
      "\n",
      ":- \n",
      "None\n",
      "\n",
      "# to replace 'none' with 'other word':- \n",
      "not found !\n"
     ]
    }
   ],
   "source": [
    "#get methods (useful)\n",
    "\n",
    "d = {'name': 'Lalit', 'age' : '26'}\n",
    "print(d['name'])\n",
    "\n",
    "#\n",
    "print(\"\\n:- \")\n",
    "d = {'name': 'lalit', 'age' : '26'}\n",
    "print(d.get('names')) # shows 'none' as output writeen 's'after name\n",
    "\n",
    "print(\"\\n# to replace 'none' with 'other word':- \")\n",
    "user = {'name': 'Lalit', 'age' : '26'}\n",
    "print(user.get('fav','not found !'))  # replaced 'none' with 'not found'"
   ]
  },
  {
   "cell_type": "code",
   "execution_count": 85,
   "metadata": {},
   "outputs": [
    {
     "name": "stdout",
     "output_type": "stream",
     "text": [
      "present\n",
      "present\n"
     ]
    }
   ],
   "source": [
    "d = {'name': 'Lalit', 'age' : '26'}\n",
    "if 'name' in d:\n",
    "    print('present')\n",
    "else:\n",
    "    print('not present')\n",
    "    \n",
    "# can do this way also\n",
    "\n",
    "d = {'name': 'Lalit', 'age' : '26'}\n",
    "if d.get('name'):\n",
    "    print('present')   \n",
    "else:\n",
    "    print('not present')"
   ]
  },
  {
   "cell_type": "code",
   "execution_count": 90,
   "metadata": {},
   "outputs": [
    {
     "name": "stdout",
     "output_type": "stream",
     "text": [
      "{}\n"
     ]
    }
   ],
   "source": [
    "# Clear\n",
    "d = {'name': 'Lalit', 'age' : '26'}\n",
    "   \n",
    "d.clear()\n",
    "print(d)  # shows blank"
   ]
  },
  {
   "cell_type": "code",
   "execution_count": 100,
   "metadata": {},
   "outputs": [
    {
     "name": "stdout",
     "output_type": "stream",
     "text": [
      "{'name': 'Lalit', 'age': '26'}\n"
     ]
    }
   ],
   "source": [
    "#Copy\n",
    "\n",
    "d = {'name': 'Lalit', 'age' : '26'}\n",
    "d1 = d.copy()\n",
    "print(d1)       # now stored in new dictionary 'D1'"
   ]
  },
  {
   "cell_type": "code",
   "execution_count": 104,
   "metadata": {},
   "outputs": [
    {
     "name": "stdout",
     "output_type": "stream",
     "text": [
      "('age', '26')\n",
      "{'name': 'Lalit'}\n"
     ]
    }
   ],
   "source": [
    "#pop item\n",
    "\n",
    "d = {'name': 'Lalit', 'age' : '26'}\n",
    "d1 = d\n",
    "print(d1.popitem())       \n",
    "print(d)              # Will popp from 'D & D1' both dictionaries"
   ]
  },
  {
   "cell_type": "markdown",
   "metadata": {},
   "source": [
    "### Exercise (Slide 123)"
   ]
  },
  {
   "cell_type": "code",
   "execution_count": 13,
   "metadata": {},
   "outputs": [
    {
     "name": "stdout",
     "output_type": "stream",
     "text": [
      "{1: 1, 2: 8, 3: 27, 4: 64, 5: 125}\n"
     ]
    }
   ],
   "source": [
    "#Cube Finder\n",
    "def cube_finder(n):\n",
    "    cubes = {}\n",
    "    for i in range(1,n+1):\n",
    "        cubes[i]=i**3\n",
    "    return cubes\n",
    "print(cube_finder(5))"
   ]
  },
  {
   "cell_type": "markdown",
   "metadata": {},
   "source": [
    "### Word Counter Dictionary (Slide 125)"
   ]
  },
  {
   "cell_type": "code",
   "execution_count": 19,
   "metadata": {},
   "outputs": [
    {
     "name": "stdout",
     "output_type": "stream",
     "text": [
      "{'l': 2, 'a': 1, 'i': 1, 't': 1}\n"
     ]
    }
   ],
   "source": [
    "def word_counter(s):\n",
    "    count = {}\n",
    "    for char in s:\n",
    "        count[char]= s.count(char)\n",
    "    return count\n",
    "print(word_counter('lalit'))"
   ]
  },
  {
   "cell_type": "markdown",
   "metadata": {},
   "source": [
    "### Exercise (Slide 127)"
   ]
  },
  {
   "cell_type": "code",
   "execution_count": 1,
   "metadata": {},
   "outputs": [
    {
     "name": "stdout",
     "output_type": "stream",
     "text": [
      "whatis your name:Lalit\n",
      "whatis your age:26\n",
      "your fav movies seprated by comma:m1,m1\n",
      "your fav songs seprated by comma:s1,s2\n",
      "name:Lalit\n",
      "age:26\n",
      "fav_movies:['m1', 'm1']\n",
      "fav_songs:['s1', 's2']\n"
     ]
    }
   ],
   "source": [
    "# user_info = {\n",
    "#     'name' : 'Lalit',\n",
    "#     'age'  :  '26',\n",
    "#     'fav_movies' : ['coco','kimi no na wa'],\n",
    "#     'fav_tunes'  : ['awakening','fairy tale'],\n",
    "#     }\n",
    "\n",
    "user = {}\n",
    "\n",
    "name = input('whatis your name:')\n",
    "age = input('whatis your age:')\n",
    "fav_movies = input('your fav movies seprated by comma:').split(',')\n",
    "fav_songs = input('your fav songs seprated by comma:').split(',')\n",
    "\n",
    "#print format required as below\n",
    "\n",
    "user['name']= name\n",
    "user['age']= age\n",
    "user['fav_movies']= fav_movies\n",
    "user['fav_songs']= fav_songs\n",
    "\n",
    "\n",
    "# Will print as per required format\n",
    "\n",
    "for key, value in user.items():\n",
    "    print(f\"{key}:{value}\")       #can use 'print(user)' also "
   ]
  },
  {
   "cell_type": "markdown",
   "metadata": {},
   "source": [
    "## Chapter 8 (Slide 129)"
   ]
  },
  {
   "cell_type": "markdown",
   "metadata": {},
   "source": [
    "### Sets"
   ]
  },
  {
   "cell_type": "code",
   "execution_count": 23,
   "metadata": {},
   "outputs": [
    {
     "name": "stdout",
     "output_type": "stream",
     "text": [
      "{1, 2, 3}\n",
      "{1, 2, 3}\n",
      "\n",
      ":- \n",
      "[1, 2, 3, 4, 5, 6, 7, 8]\n",
      "\n",
      ":- \n",
      "{1, 2, 3, 4}\n",
      "\n",
      ":- \n",
      "{1, 2}\n",
      "\n",
      ":- \n",
      "{1, 2, 3}\n"
     ]
    }
   ],
   "source": [
    "#set data type\n",
    "# unoredered collection of uniqe items\n",
    "s = {1,2,3,}\n",
    "print(s)\n",
    "\n",
    "s = {1,2,3,1}  # '1 will not prrint multiple times'\n",
    "print(s) # print(s[1]) cannot use indexing\n",
    "\n",
    "\n",
    "print(\"\\n:- \")\n",
    "\n",
    "# remove duplicate\n",
    "\n",
    "l = [1,2,3,4,5,5,5,5,6,7,7,8]\n",
    "s2= list(set(l)) #s2= set(l) #can use like this\n",
    "print(s2)\n",
    "\n",
    "\n",
    "print(\"\\n:- \")\n",
    "# add \n",
    "s = {1,2,3,}\n",
    "s.add(4)\n",
    "print(s)\n",
    "\n",
    "print(\"\\n:- \")\n",
    "# remove\n",
    "s = {1,2,3,}\n",
    "s.remove(3)\n",
    "print(s)     # If you enter number which is not present (like 4)it will show error\n",
    "            # to avoid error \"Discard\" method is used\n",
    "\n",
    "print(\"\\n:- \")\n",
    "# discard\n",
    "s = {1,2,3,}\n",
    "s.discard(5)    # \"5\" is entered it will not show error by using discard method\n",
    "print(s)"
   ]
  },
  {
   "cell_type": "code",
   "execution_count": 28,
   "metadata": {},
   "outputs": [
    {
     "name": "stdout",
     "output_type": "stream",
     "text": [
      "{1, 2, 3}\n",
      "set()\n"
     ]
    }
   ],
   "source": [
    "# Clear\n",
    "s = {1,2,3,}\n",
    "print(s)\n",
    "s.clear()\n",
    "print(s)"
   ]
  },
  {
   "cell_type": "code",
   "execution_count": 30,
   "metadata": {},
   "outputs": [
    {
     "name": "stdout",
     "output_type": "stream",
     "text": [
      "{1, 2, 3}\n"
     ]
    }
   ],
   "source": [
    "s = {1,2,3,}\n",
    "s1 = s.copy()\n",
    "print(s1)"
   ]
  },
  {
   "cell_type": "code",
   "execution_count": 38,
   "metadata": {},
   "outputs": [
    {
     "name": "stdout",
     "output_type": "stream",
     "text": [
      "present\n",
      "c\n",
      "a\n",
      "b\n"
     ]
    }
   ],
   "source": [
    "# You cannot Store List or Dictionary inside Sets\n",
    "\n",
    "#In keyword in sets and for loop\n",
    "\n",
    "s ={'a','b','c'}\n",
    "if 'a' in s:\n",
    "    print(\"present\")\n",
    "else:\n",
    "    print(\"not present\")   \n",
    "# output will not be printed in sequence\n",
    "\n",
    "#for loop\n",
    "for item in s:\n",
    "    print(item)"
   ]
  },
  {
   "cell_type": "code",
   "execution_count": 57,
   "metadata": {},
   "outputs": [
    {
     "name": "stdout",
     "output_type": "stream",
     "text": [
      "{1, 2, 3, 4, 5, 6}\n",
      "\n",
      ":- \n",
      "{3, 4}\n"
     ]
    }
   ],
   "source": [
    "#union  \n",
    "# '|' is pipe symbol\n",
    "\n",
    "s1 = {1,2,3,4}\n",
    "s2 = {3,4,5,6}\n",
    "union_set = s1|s2\n",
    "print(union_set)   # '3,4' are in s1 and s2 in output its not repeated\n",
    "\n",
    "print(\"\\n:- \")\n",
    "#intersection\n",
    "s1 = {1,2,3,4}\n",
    "s2 = {3,4,5,6}\n",
    "print(s1&s2) # '&' is used in Intersection"
   ]
  },
  {
   "cell_type": "markdown",
   "metadata": {},
   "source": [
    "## Chapter 9 (Slide 131)"
   ]
  },
  {
   "cell_type": "markdown",
   "metadata": {},
   "source": [
    "### Lists"
   ]
  },
  {
   "cell_type": "code",
   "execution_count": 33,
   "metadata": {},
   "outputs": [
    {
     "name": "stdout",
     "output_type": "stream",
     "text": [
      "[1, 4, 9, 16, 25, 36, 49, 64, 81, 100]\n",
      "\n",
      ":-1.Using lists comp\n",
      "[1, 4, 9, 16, 25, 36, 49, 64, 81, 100]\n"
     ]
    }
   ],
   "source": [
    "#Create list of squares from 1 to 10\n",
    "\n",
    "squares = []\n",
    "for i in range(1,11):\n",
    "    squares.append(i**2)\n",
    "print(squares)\n",
    "\n",
    "print(\"\\n:-1.Using lists comp\")\n",
    "\n",
    "square2 = [i**2 for i in range(1,11)]\n",
    "print(square2)"
   ]
  },
  {
   "cell_type": "code",
   "execution_count": 27,
   "metadata": {},
   "outputs": [
    {
     "name": "stdout",
     "output_type": "stream",
     "text": [
      "[-1, -2, -3, -4, -5, -6, -7, -8, -9, -10]\n",
      "\n",
      ":- using list comprehension\n",
      "[-1, -2, -3, -4, -5, -6, -7, -8, -9, -10]\n"
     ]
    }
   ],
   "source": [
    "negative = []\n",
    "for i in range(1,11):\n",
    "    negative.append(-i)\n",
    "print(negative)\n",
    "\n",
    "print(\"\\n:- using list comprehension\")\n",
    "new_negative = [-i for i in range(1,11)]\n",
    "print(negative)"
   ]
  },
  {
   "cell_type": "code",
   "execution_count": 32,
   "metadata": {},
   "outputs": [
    {
     "name": "stdout",
     "output_type": "stream",
     "text": [
      "['H', 'L', 'R']\n",
      "\n",
      ":- using list comprehension\n",
      "['H', 'L', 'R']\n"
     ]
    }
   ],
   "source": [
    "names = ['Harshit','Lalit','Rohit']\n",
    "# to do = new_list = ['H','L','R']\n",
    "\n",
    "new_list = []\n",
    "for name in names:\n",
    "    new_list.append(name[0])\n",
    "print(new_list)\n",
    "\n",
    "print(\"\\n:- using list comprehension\")\n",
    "new_list2= [name[0] for name in names]\n",
    "print(new_list2)"
   ]
  },
  {
   "cell_type": "markdown",
   "metadata": {},
   "source": [
    "### Slide (134)"
   ]
  },
  {
   "cell_type": "code",
   "execution_count": 36,
   "metadata": {},
   "outputs": [
    {
     "name": "stdout",
     "output_type": "stream",
     "text": [
      "[2, 4, 6, 8, 10]\n",
      "\n",
      ":- using list comprehension\n",
      "[2, 4, 6, 8, 10]\n",
      "[2, 4, 6, 8, 10]\n",
      "[1, 3, 5, 7, 9]\n"
     ]
    }
   ],
   "source": [
    "#list compherension with if statement\n",
    "\n",
    "numbers = list(range(1,11))\n",
    "#[1,2,3,4,5,6,7,8,9,10]\n",
    "# even_nums = [2,4,6]\n",
    "nums = []\n",
    "for i in numbers:\n",
    "    if i%2==0:\n",
    "        nums.append(i)\n",
    "print(nums)\n",
    "\n",
    "print(\"\\n:- using list comprehension\")\n",
    "\n",
    "even_nums = [i for i in numbers if i%2 ==0]\n",
    "even_num2 = [ i for i in range (1,11) if i%2 ==0]\n",
    "print(even_nums)\n",
    "print(even_num2)\n",
    "odd_nums = [ i for i in range(1,11) if i%2 !=0]\n",
    "print(odd_nums)"
   ]
  },
  {
   "cell_type": "markdown",
   "metadata": {},
   "source": [
    "### Slide 135 Exercise"
   ]
  },
  {
   "cell_type": "code",
   "execution_count": 44,
   "metadata": {},
   "outputs": [
    {
     "name": "stdout",
     "output_type": "stream",
     "text": [
      "['1', '1.0', '3']\n"
     ]
    }
   ],
   "source": [
    "def num_to_string(l):\n",
    "    return[str(i)for i in l if (type(i) == int or type(i) == float)]   # to return int replace \"'str' with 'int'\"\n",
    "print(num_to_string([True,False, [1,2,3],1,1.0,3]))   "
   ]
  },
  {
   "cell_type": "markdown",
   "metadata": {},
   "source": [
    "### Slide (137) list compherension with 'if' 'else' statement"
   ]
  },
  {
   "cell_type": "code",
   "execution_count": 49,
   "metadata": {},
   "outputs": [
    {
     "name": "stdout",
     "output_type": "stream",
     "text": [
      "[-1, 4, -3, 16, -5, 36, -7, 64, -9, 100]\n",
      "\n",
      ":- using list comprehension\n",
      "[-1, 4, -3, 16, -5, 36, -7, 64, -9, 100]\n"
     ]
    }
   ],
   "source": [
    "nums = [1,2,3,4,5,6,7,8,9,10]\n",
    "# new_list = [-1,4, -3,8]\n",
    "\n",
    "new_list = []\n",
    "for i in nums:\n",
    "    if i%2 == 0:\n",
    "        new_list.append(i**2)\n",
    "    else:\n",
    "        new_list.append(-i)\n",
    "print(new_list)\n",
    "\n",
    "print(\"\\n:- using list comprehension\")\n",
    "\n",
    "new_list2 = [i**2 if (i%2 == 0)else -i for i in nums]\n",
    "print(new_list2)"
   ]
  },
  {
   "cell_type": "markdown",
   "metadata": {},
   "source": [
    "### Nested List Slide 138"
   ]
  },
  {
   "cell_type": "code",
   "execution_count": 58,
   "metadata": {},
   "outputs": [
    {
     "name": "stdout",
     "output_type": "stream",
     "text": [
      "[[1, 2, 3], [1, 2, 3], [1, 2, 3]]\n",
      "\n",
      ": or can write\n",
      "[[1, 2, 3], [1, 2, 3], [1, 2, 3]]\n"
     ]
    }
   ],
   "source": [
    "example = [[1,2,3],[1,2,3],[1,2,3]]\n",
    "nested_comp = [[i for i in range(1,4)] for j in range(3)]\n",
    "print(nested_comp)\n",
    "\n",
    "# \n",
    "print(\"\\n: or can write\")\n",
    "\n",
    "new_list = []\n",
    "for j in range(3):\n",
    "    new_list.append([1,2,3])\n",
    "print(nested_comp)"
   ]
  },
  {
   "cell_type": "markdown",
   "metadata": {},
   "source": [
    "## Chapter 10"
   ]
  },
  {
   "cell_type": "markdown",
   "metadata": {},
   "source": [
    "### Dictionary Comprehension (Slide 140)"
   ]
  },
  {
   "cell_type": "code",
   "execution_count": 8,
   "metadata": {},
   "outputs": [
    {
     "name": "stdout",
     "output_type": "stream",
     "text": [
      "{1: 1, 2: 4, 3: 9, 4: 16, 5: 25, 6: 36, 7: 49, 8: 64, 9: 81, 10: 100}\n",
      "\n",
      ":or can write\n",
      "square of 1 is:1\n",
      "square of 2 is:4\n",
      "square of 3 is:9\n",
      "square of 4 is:16\n",
      "square of 5 is:25\n",
      "square of 6 is:36\n",
      "square of 7 is:49\n",
      "square of 8 is:64\n",
      "square of 9 is:81\n",
      "square of 10 is:100\n"
     ]
    }
   ],
   "source": [
    "#square = {1:1,2:4,3:9}\n",
    "square = {num:num**2 for num in range(1,11)}\n",
    "print(square)\n",
    "\n",
    "print(\"\\n:or can write\")\n",
    "square = {f\"square of {num} is\":num**2 for num in range(1,11)}\n",
    "for k,v in square.items():\n",
    "    print(f\"{k}:{v}\")"
   ]
  },
  {
   "cell_type": "code",
   "execution_count": 18,
   "metadata": {},
   "outputs": [
    {
     "name": "stdout",
     "output_type": "stream",
     "text": [
      "{'l': 2, 'a': 1, 'i': 1, 't': 1}\n"
     ]
    }
   ],
   "source": [
    "string = \"lalit\"\n",
    "word_count = {char:string.count(char)for char in string}\n",
    "print(word_count)"
   ]
  },
  {
   "cell_type": "markdown",
   "metadata": {},
   "source": [
    "### If Else with Dictionary (Slide 141)"
   ]
  },
  {
   "cell_type": "code",
   "execution_count": 20,
   "metadata": {},
   "outputs": [
    {
     "name": "stdout",
     "output_type": "stream",
     "text": [
      "{1: 'odd', 2: 'even', 3: 'odd', 4: 'even', 5: 'odd', 6: 'even', 7: 'odd', 8: 'even', 9: 'odd', 10: 'even'}\n"
     ]
    }
   ],
   "source": [
    "#d = {1: 'odd', 2:'even'}\n",
    "odd_even = {i:('even' if i%2 == 0 else 'odd') for i in range(1,11)}\n",
    "print(odd_even)"
   ]
  },
  {
   "cell_type": "markdown",
   "metadata": {},
   "source": [
    "### Sets in Dictionary (slide 142)"
   ]
  },
  {
   "cell_type": "code",
   "execution_count": 26,
   "metadata": {},
   "outputs": [
    {
     "name": "stdout",
     "output_type": "stream",
     "text": [
      "{64, 1, 4, 36, 100, 9, 16, 49, 81, 25}\n",
      "\n",
      ":\n",
      "{'r', 'm', 'h'}\n"
     ]
    }
   ],
   "source": [
    "s = {k**2 for k in range(1,11)}\n",
    "print(s)\n",
    "\n",
    "print(\"\\n:\")\n",
    "names = ['harshit','mohit','rohit']\n",
    "first = {name[0] for name in names}\n",
    "print(first)"
   ]
  },
  {
   "cell_type": "markdown",
   "metadata": {},
   "source": [
    "## Chapter 11 (Slide 143)\n"
   ]
  },
  {
   "cell_type": "code",
   "execution_count": 53,
   "metadata": {},
   "outputs": [
    {
     "name": "stdout",
     "output_type": "stream",
     "text": [
      "7\n",
      "\n",
      ":\n",
      "(1, 2, 3, 4, 5)\n",
      "<class 'tuple'>\n",
      "\n",
      ":using Star(*) operator\n",
      "6\n"
     ]
    }
   ],
   "source": [
    "#*operator\n",
    "#*args \n",
    "\n",
    "def total(a,b):\n",
    "    return a+b\n",
    "print(total(3,4)) # if we write print(total(3,4,5,9))  =it will show error as it will take only 2 agruments\n",
    "\n",
    "print(\"\\n:\")\n",
    "\n",
    "def total(a,b):\n",
    "    return a+b\n",
    "\n",
    "def all_total(*args):\n",
    "    print(args)\n",
    "    print(type(args))\n",
    "all_total(1,2,3,4,5) # it will now print tuple\n",
    "\n",
    "print(\"\\n:using Star(*) operator\")\n",
    "def all_total(*args):\n",
    "    total = 0\n",
    "    for num in args:\n",
    "        total += num\n",
    "    return total\n",
    "print(all_total(1,2,3))"
   ]
  },
  {
   "cell_type": "markdown",
   "metadata": {},
   "source": [
    "### Slide 144"
   ]
  },
  {
   "cell_type": "code",
   "execution_count": 67,
   "metadata": {},
   "outputs": [
    {
     "name": "stdout",
     "output_type": "stream",
     "text": [
      "24\n",
      "\n",
      "\n",
      "(3, 4)\n",
      "12\n"
     ]
    }
   ],
   "source": [
    "# *args with normal parameter\n",
    "\n",
    "def multiply_nums(*args):\n",
    "    multiply = 1\n",
    "    for i in args:\n",
    "        multiply *= i\n",
    "    return multiply\n",
    "\n",
    "print(multiply_nums(1,2,3,4))\n",
    "\n",
    "print(\"\\n\")\n",
    "def multiply_nums(num1,num2, *args): #if nums is not added it will multiply all.\n",
    "                                    # you cannot add num after *args\n",
    "    multiply = 1\n",
    "    print(args)\n",
    "    for i in args:\n",
    "        multiply *= i\n",
    "    return multiply\n",
    "print(multiply_nums(2,4,3,4)) # 2,4 is num1 and num2"
   ]
  },
  {
   "cell_type": "markdown",
   "metadata": {},
   "source": [
    "### Slide 145"
   ]
  },
  {
   "cell_type": "code",
   "execution_count": 70,
   "metadata": {},
   "outputs": [
    {
     "name": "stdout",
     "output_type": "stream",
     "text": [
      "(2, 3, 4)\n",
      "24\n"
     ]
    }
   ],
   "source": [
    "#Args as argume\n",
    "\n",
    "def multiply_nums(*args):\n",
    "    multiply = 1\n",
    "    print(args) \n",
    "    for i in args:\n",
    "        multiply *= i\n",
    "    return multiply\n",
    "nums = (2,3,4)\n",
    "print(multiply_nums(*nums)) #unpack\n"
   ]
  },
  {
   "cell_type": "markdown",
   "metadata": {},
   "source": [
    "### Exercise Slide (146)"
   ]
  },
  {
   "cell_type": "code",
   "execution_count": 82,
   "metadata": {},
   "outputs": [
    {
     "name": "stdout",
     "output_type": "stream",
     "text": [
      "[1, 4, 9]\n",
      "[8, 27]\n"
     ]
    }
   ],
   "source": [
    "def to_power(num,*args):\n",
    "    if args:\n",
    "        return[i**num for i in args]\n",
    "    else:\n",
    "        return\"you did't pass any args\"\n",
    "nums = [1,2,3]\n",
    "print(to_power(2,*nums)) # if *nums is not writeen  it will return else statement\n",
    "print(to_power(3,*[2,3])) #can write like this"
   ]
  },
  {
   "cell_type": "markdown",
   "metadata": {},
   "source": [
    "### ** Kwargs (keyword argument) Slide (148)"
   ]
  },
  {
   "cell_type": "code",
   "execution_count": 86,
   "metadata": {},
   "outputs": [
    {
     "name": "stdout",
     "output_type": "stream",
     "text": [
      "name:Harshit\n",
      "age:24\n"
     ]
    }
   ],
   "source": [
    "# kwargs as a parameter\n",
    "def func(**kwargs):\n",
    "    for k, v in kwargs.items():\n",
    "        print(f\"{k}:{v}\")\n",
    "\n",
    "# dictionary unpacking\n",
    "d = {'name':'Harshit', 'age':24}\n",
    "func(**d)"
   ]
  },
  {
   "cell_type": "code",
   "execution_count": null,
   "metadata": {},
   "outputs": [],
   "source": []
  },
  {
   "cell_type": "code",
   "execution_count": null,
   "metadata": {},
   "outputs": [],
   "source": []
  },
  {
   "cell_type": "code",
   "execution_count": null,
   "metadata": {},
   "outputs": [],
   "source": []
  },
  {
   "cell_type": "code",
   "execution_count": null,
   "metadata": {},
   "outputs": [],
   "source": []
  },
  {
   "cell_type": "code",
   "execution_count": null,
   "metadata": {},
   "outputs": [],
   "source": []
  },
  {
   "cell_type": "code",
   "execution_count": null,
   "metadata": {},
   "outputs": [],
   "source": []
  },
  {
   "cell_type": "code",
   "execution_count": null,
   "metadata": {},
   "outputs": [],
   "source": []
  }
 ],
 "metadata": {
  "kernelspec": {
   "display_name": "Python 3",
   "language": "python",
   "name": "python3"
  },
  "language_info": {
   "codemirror_mode": {
    "name": "ipython",
    "version": 3
   },
   "file_extension": ".py",
   "mimetype": "text/x-python",
   "name": "python",
   "nbconvert_exporter": "python",
   "pygments_lexer": "ipython3",
   "version": "3.7.4"
  }
 },
 "nbformat": 4,
 "nbformat_minor": 2
}
