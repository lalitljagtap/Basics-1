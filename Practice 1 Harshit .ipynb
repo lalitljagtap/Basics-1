{
 "cells": [
  {
   "cell_type": "code",
   "execution_count": 55,
   "metadata": {},
   "outputs": [
    {
     "data": {
      "text/plain": [
       "4"
      ]
     },
     "execution_count": 55,
     "metadata": {},
     "output_type": "execute_result"
    }
   ],
   "source": [
    "2+2"
   ]
  },
  {
   "cell_type": "code",
   "execution_count": 54,
   "metadata": {},
   "outputs": [
    {
     "name": "stdout",
     "output_type": "stream",
     "text": [
      "this is \\\\ double backslash\n"
     ]
    }
   ],
   "source": [
    "print('this is \\\\\\\\ double backslash')"
   ]
  },
  {
   "cell_type": "code",
   "execution_count": 53,
   "metadata": {},
   "outputs": [
    {
     "name": "stdout",
     "output_type": "stream",
     "text": [
      " \\\" \\n \\t \\' \n"
     ]
    }
   ],
   "source": [
    "print(\" \\\\\\\" \\\\n \\\\t \\\\\\' \")"
   ]
  },
  {
   "cell_type": "code",
   "execution_count": 4,
   "metadata": {},
   "outputs": [
    {
     "name": "stdout",
     "output_type": "stream",
     "text": [
      " These are /\\/\\/\\/\\ mountains\n"
     ]
    }
   ],
   "source": [
    "print(\" These are /\\\\/\\\\/\\\\/\\\\ mountains\")"
   ]
  },
  {
   "cell_type": "code",
   "execution_count": 5,
   "metadata": {},
   "outputs": [
    {
     "name": "stdout",
     "output_type": "stream",
     "text": [
      " He is \t Awesome\n"
     ]
    }
   ],
   "source": [
    "print(\" He is \\t Awesome\")"
   ]
  },
  {
   "cell_type": "code",
   "execution_count": 6,
   "metadata": {},
   "outputs": [
    {
     "name": "stdout",
     "output_type": "stream",
     "text": [
      "line A \\n line B\n"
     ]
    }
   ],
   "source": [
    "print(r\"line A \\n line B\")"
   ]
  },
  {
   "cell_type": "code",
   "execution_count": 7,
   "metadata": {},
   "outputs": [
    {
     "name": "stdout",
     "output_type": "stream",
     "text": [
      "😂\n"
     ]
    }
   ],
   "source": [
    "print(\"\\U0001F602\")"
   ]
  },
  {
   "cell_type": "code",
   "execution_count": 8,
   "metadata": {},
   "outputs": [
    {
     "name": "stdout",
     "output_type": "stream",
     "text": [
      "5.833333333333333\n"
     ]
    }
   ],
   "source": [
    "print(2+3+5/6)"
   ]
  },
  {
   "cell_type": "code",
   "execution_count": 9,
   "metadata": {},
   "outputs": [
    {
     "name": "stdout",
     "output_type": "stream",
     "text": [
      "0\n"
     ]
    }
   ],
   "source": [
    "print(2//4)"
   ]
  },
  {
   "cell_type": "code",
   "execution_count": 10,
   "metadata": {},
   "outputs": [
    {
     "name": "stdout",
     "output_type": "stream",
     "text": [
      "8\n"
     ]
    }
   ],
   "source": [
    "print(2**3)"
   ]
  },
  {
   "cell_type": "code",
   "execution_count": 11,
   "metadata": {},
   "outputs": [
    {
     "name": "stdout",
     "output_type": "stream",
     "text": [
      "1.4142135623730951\n"
     ]
    }
   ],
   "source": [
    "print(2**0.5)"
   ]
  },
  {
   "cell_type": "code",
   "execution_count": 12,
   "metadata": {},
   "outputs": [
    {
     "name": "stdout",
     "output_type": "stream",
     "text": [
      "24.0\n"
     ]
    }
   ],
   "source": [
    "print(2**3/2*6)"
   ]
  },
  {
   "cell_type": "code",
   "execution_count": 13,
   "metadata": {},
   "outputs": [
    {
     "name": "stdout",
     "output_type": "stream",
     "text": [
      "1\n"
     ]
    }
   ],
   "source": [
    "print(3%2)"
   ]
  },
  {
   "cell_type": "code",
   "execution_count": 14,
   "metadata": {},
   "outputs": [
    {
     "name": "stdout",
     "output_type": "stream",
     "text": [
      "512\n"
     ]
    }
   ],
   "source": [
    "print(2**9)"
   ]
  },
  {
   "cell_type": "markdown",
   "metadata": {},
   "source": [
    "## camel case java"
   ]
  },
  {
   "cell_type": "code",
   "execution_count": 15,
   "metadata": {},
   "outputs": [
    {
     "name": "stdout",
     "output_type": "stream",
     "text": [
      "4\n"
     ]
    }
   ],
   "source": [
    "number1=2\n",
    "number2=4\n",
    "print(number2)"
   ]
  },
  {
   "cell_type": "code",
   "execution_count": 16,
   "metadata": {},
   "outputs": [
    {
     "name": "stdout",
     "output_type": "stream",
     "text": [
      "type your nameLalit\n"
     ]
    }
   ],
   "source": [
    "name=input(\"type your name\")"
   ]
  },
  {
   "cell_type": "code",
   "execution_count": 17,
   "metadata": {},
   "outputs": [
    {
     "name": "stdout",
     "output_type": "stream",
     "text": [
      "what is your age?26\n"
     ]
    }
   ],
   "source": [
    "age=input(\"what is your age?\")"
   ]
  },
  {
   "cell_type": "code",
   "execution_count": 18,
   "metadata": {},
   "outputs": [
    {
     "name": "stdout",
     "output_type": "stream",
     "text": [
      "Your age is 26\n"
     ]
    }
   ],
   "source": [
    "print(\"Your age is \" + age)"
   ]
  },
  {
   "cell_type": "markdown",
   "metadata": {},
   "source": [
    "# Chapter 2"
   ]
  },
  {
   "cell_type": "code",
   "execution_count": 19,
   "metadata": {},
   "outputs": [
    {
     "name": "stdout",
     "output_type": "stream",
     "text": [
      "10.0\n"
     ]
    }
   ],
   "source": [
    "number_one=int(\"5\")\n",
    "number_two=float(\"5\")\n",
    "number_three=str(5)\n",
    "print(number_one+number_two)"
   ]
  },
  {
   "cell_type": "code",
   "execution_count": 20,
   "metadata": {},
   "outputs": [
    {
     "name": "stdout",
     "output_type": "stream",
     "text": [
      "hello Lalit your age is 26\n"
     ]
    }
   ],
   "source": [
    "name, age=\"Lalit\", \"26\"\n",
    "print(\"hello \"+name+\" your age is \"+age)"
   ]
  },
  {
   "cell_type": "code",
   "execution_count": 21,
   "metadata": {},
   "outputs": [
    {
     "name": "stdout",
     "output_type": "stream",
     "text": [
      "3\n"
     ]
    }
   ],
   "source": [
    "x=y=z=1\n",
    "print(x+y+z)"
   ]
  },
  {
   "cell_type": "code",
   "execution_count": 22,
   "metadata": {},
   "outputs": [
    {
     "name": "stdout",
     "output_type": "stream",
     "text": [
      "enter your name:Lalit\n",
      "enter your age:26\n"
     ]
    }
   ],
   "source": [
    "name=input(\"enter your name:\")\n",
    "age=input(\"enter your age:\")"
   ]
  },
  {
   "cell_type": "code",
   "execution_count": 6,
   "metadata": {},
   "outputs": [
    {
     "name": "stdout",
     "output_type": "stream",
     "text": [
      "enter your name & ageLalit,26\n",
      "Lalit\n",
      "26\n"
     ]
    }
   ],
   "source": [
    "name, age=input(\"enter your name & age\").split(\",\")\n",
    "print(name)\n",
    "print(age)"
   ]
  },
  {
   "cell_type": "markdown",
   "metadata": {},
   "source": [
    "# Examples of f.\n",
    "#while usinf \" f \" {} are necessary in statement"
   ]
  },
  {
   "cell_type": "code",
   "execution_count": 56,
   "metadata": {},
   "outputs": [
    {
     "name": "stdout",
     "output_type": "stream",
     "text": [
      "hello Lalit your age is 26\n",
      "hello Lalit your age is 28\n"
     ]
    }
   ],
   "source": [
    "name=\"Lalit\"\n",
    "age=26\n",
    "print(\"hello \"+name+\" your age is \"+str(age))\n",
    "print(f\"hello {name} your age is {age+2}\")"
   ]
  },
  {
   "cell_type": "code",
   "execution_count": 10,
   "metadata": {},
   "outputs": [
    {
     "name": "stdout",
     "output_type": "stream",
     "text": [
      "3.0\n"
     ]
    }
   ],
   "source": [
    "num1=3\n",
    "num2=3\n",
    "num3=3\n",
    "print((num1+num2+num3)/3)"
   ]
  },
  {
   "cell_type": "code",
   "execution_count": 53,
   "metadata": {},
   "outputs": [
    {
     "name": "stdout",
     "output_type": "stream",
     "text": [
      "333/3\n"
     ]
    }
   ],
   "source": [
    "num1=3\n",
    "num2=3\n",
    "num3=3\n",
    "print(f\"{num1}{num2}{num3}/3\")"
   ]
  },
  {
   "cell_type": "code",
   "execution_count": 1,
   "metadata": {},
   "outputs": [
    {
     "name": "stdout",
     "output_type": "stream",
     "text": [
      "first number:3\n",
      "second number:3\n",
      "third number;3\n",
      "average of three numbers:3.0\n"
     ]
    }
   ],
   "source": [
    "num1=input(\"first number:\")\n",
    "num2=input(\"second number:\")\n",
    "num3=input(\"third number;\")\n",
    "#(int(num1)+(num2)+(num3))/3\n",
    "print(f\"average of three numbers:{(int(num1)+int(num2)+int(num3))/3}\")"
   ]
  },
  {
   "cell_type": "code",
   "execution_count": 10,
   "metadata": {},
   "outputs": [
    {
     "name": "stdout",
     "output_type": "stream",
     "text": [
      "first number:3\n",
      "second number:3\n",
      "third number;3\n",
      "average of three numbers:{(int(num1)+int(num2)+int(num3))/3}\n"
     ]
    }
   ],
   "source": [
    "num1=input(\"first number:\")\n",
    "num2=input(\"second number:\")\n",
    "num3=input(\"third number;\")\n",
    "#(int(num1)+(num2)+(num3))/3\n",
    "print(\"average of three numbers:{(int(num1)+int(num2)+int(num3))/3}\")# f is not added, will print whole line"
   ]
  },
  {
   "cell_type": "code",
   "execution_count": 9,
   "metadata": {},
   "outputs": [
    {
     "name": "stdout",
     "output_type": "stream",
     "text": [
      "enter three numbers comma seperator:9,3,6\n",
      "average of three numbers:6.0\n"
     ]
    }
   ],
   "source": [
    "# num1=input(\"first number:\")\n",
    "# num2=input(\"second number:\")\n",
    "# num3=input(\"third number;\")\n",
    "#(int(num1)+(num2)+(num3))/3\n",
    "num1,num2,num3=input(\"enter three numbers comma seperator:\").split(\",\")\n",
    "print(f\"average of three numbers:{(int(num1)+int(num2)+int(num3))/3}\")"
   ]
  },
  {
   "cell_type": "code",
   "execution_count": 10,
   "metadata": {},
   "outputs": [
    {
     "name": "stdout",
     "output_type": "stream",
     "text": [
      "enter three numbers comma seperator:3,3,3\n",
      "multiplication of three number:9.0\n"
     ]
    }
   ],
   "source": [
    "num1,num2,num3=input(\"enter three numbers comma seperator:\").split(\",\")\n",
    "print(f\"multiplication of three number:{(int(num1)*int(num2)*int(num3))/3}\")# will not calculate without \"int\" "
   ]
  },
  {
   "cell_type": "markdown",
   "metadata": {},
   "source": [
    "## String Indexing"
   ]
  },
  {
   "cell_type": "code",
   "execution_count": 19,
   "metadata": {},
   "outputs": [
    {
     "name": "stdout",
     "output_type": "stream",
     "text": [
      "p\n"
     ]
    }
   ],
   "source": [
    "language=\"python\"\n",
    "print(language[0])"
   ]
  },
  {
   "cell_type": "code",
   "execution_count": 20,
   "metadata": {},
   "outputs": [
    {
     "name": "stdout",
     "output_type": "stream",
     "text": [
      "o\n"
     ]
    }
   ],
   "source": [
    "language=\"python\"\n",
    "print(language[-2])"
   ]
  },
  {
   "cell_type": "code",
   "execution_count": 23,
   "metadata": {},
   "outputs": [
    {
     "name": "stdout",
     "output_type": "stream",
     "text": [
      "T\n"
     ]
    }
   ],
   "source": [
    "lang=\"PYTHON\"\n",
    "print(lang[2:3])"
   ]
  },
  {
   "cell_type": "code",
   "execution_count": 25,
   "metadata": {},
   "outputs": [
    {
     "name": "stdout",
     "output_type": "stream",
     "text": [
      "PYTHON\n"
     ]
    }
   ],
   "source": [
    "lang=\"PYTHON\"\n",
    "print(lang[:])"
   ]
  },
  {
   "cell_type": "code",
   "execution_count": 27,
   "metadata": {},
   "outputs": [
    {
     "name": "stdout",
     "output_type": "stream",
     "text": [
      "YTHON\n"
     ]
    }
   ],
   "source": [
    "lang=\"PYTHON\"\n",
    "print(lang[1:])"
   ]
  },
  {
   "cell_type": "code",
   "execution_count": 12,
   "metadata": {},
   "outputs": [
    {
     "name": "stdout",
     "output_type": "stream",
     "text": [
      "PYT\n"
     ]
    }
   ],
   "source": [
    "lang=\"PYTHON\"\n",
    "print(lang[:3])"
   ]
  },
  {
   "cell_type": "code",
   "execution_count": 37,
   "metadata": {},
   "outputs": [
    {
     "name": "stdout",
     "output_type": "stream",
     "text": [
      "Lali\n"
     ]
    }
   ],
   "source": [
    "print(\"Lalit\"[0:4])"
   ]
  },
  {
   "cell_type": "code",
   "execution_count": 68,
   "metadata": {},
   "outputs": [
    {
     "name": "stdout",
     "output_type": "stream",
     "text": [
      "HON\n"
     ]
    }
   ],
   "source": [
    "print(\"PYTHON\"[-3::1])"
   ]
  },
  {
   "cell_type": "code",
   "execution_count": 11,
   "metadata": {},
   "outputs": [
    {
     "name": "stdout",
     "output_type": "stream",
     "text": [
      "enter you nameLalit\n",
      "tilaL\n",
      "reverse of your nametilaL\n"
     ]
    }
   ],
   "source": [
    "name=input(\"enter you name\")\n",
    "reverse=name[-1::-1]\n",
    "print(name[-1::-1])\n",
    "print(f\"reverse of your name{reverse}\")"
   ]
  },
  {
   "cell_type": "markdown",
   "metadata": {},
   "source": [
    "# Length count of word"
   ]
  },
  {
   "cell_type": "code",
   "execution_count": 21,
   "metadata": {},
   "outputs": [
    {
     "name": "stdout",
     "output_type": "stream",
     "text": [
      "12\n",
      "lalit jagtap\n",
      "LALIT JAGTAP\n",
      "Lalit Jagtap\n",
      "3\n"
     ]
    }
   ],
   "source": [
    "name=\"LaLit JaGtap\"\n",
    "print(len(name))\n",
    "print(name.lower())\n",
    "print(name.upper())\n",
    "print(name.title())\n",
    "print(name.count(\"a\"))"
   ]
  },
  {
   "cell_type": "code",
   "execution_count": 45,
   "metadata": {},
   "outputs": [
    {
     "name": "stdout",
     "output_type": "stream",
     "text": [
      "enter comma sep name and char:Lalitll,L\n",
      "length of your name is7\n",
      "character count:4\n"
     ]
    }
   ],
   "source": [
    "name, char=input(\"enter comma sep name and char:\").split(\",\")\n",
    "print(f\"length of your name is{len(name)}\")\n",
    "print(f\"character count:{name.lower().count(char.lower())}\")# L is used 4 times"
   ]
  },
  {
   "cell_type": "code",
   "execution_count": 41,
   "metadata": {},
   "outputs": [
    {
     "name": "stdout",
     "output_type": "stream",
     "text": [
      "Lalit    ........\n",
      "    Lalit........\n",
      "Lalit........\n"
     ]
    }
   ],
   "source": [
    "name=\"    Lalit    \"\n",
    "dots=\"........\"\n",
    "print(name.lstrip()+dots)\n",
    "print(name.rstrip()+dots)\n",
    "print(name.strip()+dots)"
   ]
  },
  {
   "cell_type": "markdown",
   "metadata": {},
   "source": [
    "# Find & Replace"
   ]
  },
  {
   "cell_type": "code",
   "execution_count": 43,
   "metadata": {},
   "outputs": [
    {
     "name": "stdout",
     "output_type": "stream",
     "text": [
      "Lalit........\n"
     ]
    }
   ],
   "source": [
    "name=\"    La   lit    \"\n",
    "dots=\"........\"\n",
    "print(name.replace(\" \", \"\")+dots)"
   ]
  },
  {
   "cell_type": "code",
   "execution_count": 13,
   "metadata": {},
   "outputs": [
    {
     "name": "stdout",
     "output_type": "stream",
     "text": [
      "she was beautiful and she is good dancer\n",
      "4\n"
     ]
    }
   ],
   "source": [
    "string=\"she is beautiful and she is good dancer\"\n",
    "print(string.replace(\"is\",\"was\",1))\n",
    "is_pos1=string.find(\"is\")\n",
    "is_pos2=string.find(\"is\",is_pos1,10)\n",
    "print(is_pos2)"
   ]
  },
  {
   "cell_type": "code",
   "execution_count": 17,
   "metadata": {},
   "outputs": [
    {
     "name": "stdout",
     "output_type": "stream",
     "text": [
      "***Lalit***\n"
     ]
    }
   ],
   "source": [
    "name=\"Lalit\"\n",
    "print(name.center(11,\"*\"))"
   ]
  },
  {
   "cell_type": "code",
   "execution_count": 23,
   "metadata": {},
   "outputs": [
    {
     "name": "stdout",
     "output_type": "stream",
     "text": [
      "Enter your NameLalit\n",
      "*Lalit*\n"
     ]
    }
   ],
   "source": [
    "name=input(\"Enter your Name\")\n",
    "print(name.center(len(name)+2,\"*\"))"
   ]
  },
  {
   "cell_type": "code",
   "execution_count": 34,
   "metadata": {},
   "outputs": [
    {
     "name": "stdout",
     "output_type": "stream",
     "text": [
      "harshit\n"
     ]
    }
   ],
   "source": [
    "name=\"harsh\"\n",
    "name=name+\"it\"\n",
    "print(name)\n"
   ]
  },
  {
   "cell_type": "code",
   "execution_count": 9,
   "metadata": {},
   "outputs": [
    {
     "name": "stdout",
     "output_type": "stream",
     "text": [
      "harshit\n",
      "54\n"
     ]
    }
   ],
   "source": [
    "name=\"harsh\"\n",
    "name +=\"it\"\n",
    "print(name)\n",
    "\n",
    "age=27\n",
    "age*=2\n",
    "print(age)"
   ]
  },
  {
   "cell_type": "markdown",
   "metadata": {},
   "source": [
    "# Chapter 3"
   ]
  },
  {
   "cell_type": "markdown",
   "metadata": {},
   "source": [
    "# If Else Statement"
   ]
  },
  {
   "cell_type": "code",
   "execution_count": 25,
   "metadata": {},
   "outputs": [
    {
     "name": "stdout",
     "output_type": "stream",
     "text": [
      "enter your age 12\n",
      "sorry you can't play\n"
     ]
    }
   ],
   "source": [
    "age=input(\"enter your age \")\n",
    "age=int(age)\n",
    "if age >= 14 :\n",
    "    print(\"you are above 14\")\n",
    "else:\n",
    "    print(\"sorry you can't play\")"
   ]
  },
  {
   "cell_type": "code",
   "execution_count": 34,
   "metadata": {},
   "outputs": [],
   "source": [
    "x=18\n",
    "if x>18:\n",
    "    pass"
   ]
  },
  {
   "cell_type": "markdown",
   "metadata": {},
   "source": [
    "# Excercise"
   ]
  },
  {
   "cell_type": "code",
   "execution_count": 21,
   "metadata": {},
   "outputs": [
    {
     "name": "stdout",
     "output_type": "stream",
     "text": [
      "enter number14\n",
      "too low\n"
     ]
    }
   ],
   "source": [
    "winning_number=15\n",
    "winning_number=int(winning_number)\n",
    "user_number=input(\"enter number\")\n",
    "user_number=int(user_number)\n",
    "if user_number==winning_number:\n",
    "    print(\"You Win\")\n",
    "else:\n",
    "    if user_number<winning_number:\n",
    "        print(\"too low\")\n",
    "    else:\n",
    "        print(\"Too high\")    "
   ]
  },
  {
   "cell_type": "markdown",
   "metadata": {},
   "source": [
    "# random number"
   ]
  },
  {
   "cell_type": "code",
   "execution_count": 9,
   "metadata": {},
   "outputs": [
    {
     "name": "stdout",
     "output_type": "stream",
     "text": [
      "2\n"
     ]
    }
   ],
   "source": [
    "import random\n",
    "number=random.randint(1,16)\n",
    "print(number)"
   ]
  },
  {
   "cell_type": "markdown",
   "metadata": {},
   "source": [
    "# Excercise "
   ]
  },
  {
   "cell_type": "code",
   "execution_count": 39,
   "metadata": {},
   "outputs": [
    {
     "name": "stdout",
     "output_type": "stream",
     "text": [
      "enter number3\n",
      "5\n",
      "Try again\n"
     ]
    }
   ],
   "source": [
    "import random\n",
    "user=input(\"enter number\")\n",
    "user=int(user)\n",
    "number=random.randint(1,5)\n",
    "print(number)\n",
    "number=int(number)\n",
    "if user==number:\n",
    "    print(\"You win\")\n",
    "else:\n",
    "    print(\"Try again\")"
   ]
  },
  {
   "cell_type": "markdown",
   "metadata": {},
   "source": [
    "# Excercise"
   ]
  },
  {
   "cell_type": "code",
   "execution_count": 6,
   "metadata": {},
   "outputs": [
    {
     "name": "stdout",
     "output_type": "stream",
     "text": [
      "10\n"
     ]
    }
   ],
   "source": [
    "import random\n",
    "number=random.randint(1,16)\n",
    "print(number)"
   ]
  },
  {
   "cell_type": "markdown",
   "metadata": {},
   "source": [
    "# And Or Operator"
   ]
  },
  {
   "cell_type": "code",
   "execution_count": 15,
   "metadata": {},
   "outputs": [
    {
     "name": "stdout",
     "output_type": "stream",
     "text": [
      "condition true\n"
     ]
    }
   ],
   "source": [
    "name=\"abc\"\n",
    "age=19\n",
    "if name==\"abc\" and age==19:\n",
    "    print(\"condition true\")\n",
    "else:\n",
    "    print(\"condition false\")"
   ]
  },
  {
   "cell_type": "code",
   "execution_count": 12,
   "metadata": {},
   "outputs": [
    {
     "name": "stdout",
     "output_type": "stream",
     "text": [
      "enter you nameAshish\n",
      "enter age10\n",
      "you can watch movie\n"
     ]
    }
   ],
   "source": [
    "name=input(\"enter you name\")\n",
    "age=input(\"enter age\")\n",
    "age=int(age)\n",
    "if age>=10 and(name[0]=='a' or name[0]=='A'):\n",
    "    print(\"you can watch movie\")\n",
    "else:\n",
    "    print(\"sorry,you cannot watch movie\")"
   ]
  },
  {
   "cell_type": "markdown",
   "metadata": {},
   "source": [
    "# if elif else statement"
   ]
  },
  {
   "cell_type": "code",
   "execution_count": 66,
   "metadata": {},
   "outputs": [
    {
     "name": "stdout",
     "output_type": "stream",
     "text": [
      "enter your age15\n",
      "Ticket price:250\n"
     ]
    }
   ],
   "source": [
    "#show ticket pricing\n",
    "#1 to 3 (free)\n",
    "#4 to 10 (100)\n",
    "#11 to 60(250)\n",
    "#above 60 (200)\n",
    "age = input(\"enter your age\")\n",
    "age=int(age)\n",
    "\n",
    "if age==0 or age<0 :\n",
    "    print(\"you can't watch\")\n",
    "elif 0<age<=3:\n",
    "    print(\"Ticket price free\")\n",
    "elif 3<age<=10: \n",
    "    print(\"Ticket price:100\")\n",
    "elif 10<age<=60: \n",
    "    print(\"Ticket price:250\")\n",
    "else: \n",
    "    print(\"Ticket price:200\")"
   ]
  },
  {
   "cell_type": "markdown",
   "metadata": {},
   "source": [
    "# if with in \n",
    "in keyword"
   ]
  },
  {
   "cell_type": "code",
   "execution_count": 70,
   "metadata": {},
   "outputs": [
    {
     "name": "stdout",
     "output_type": "stream",
     "text": [
      "I is not present\n"
     ]
    }
   ],
   "source": [
    "#to check specific character is present or not\n",
    "name=\"Lalit\"\n",
    "if 'I' in name:\n",
    "    print(\"I  is present in name\")\n",
    "else:\n",
    "    print(\"I is not present\")"
   ]
  },
  {
   "cell_type": "markdown",
   "metadata": {},
   "source": [
    "# check empty or not"
   ]
  },
  {
   "cell_type": "code",
   "execution_count": 86,
   "metadata": {},
   "outputs": [
    {
     "name": "stdout",
     "output_type": "stream",
     "text": [
      "Enter your name Lalit\n",
      "your name is Lalit\n"
     ]
    }
   ],
   "source": [
    "name=input(\"Enter your name\")\n",
    "if name:#true if string not empty\n",
    "    print(f\"your name is{name}\")\n",
    "else:\n",
    "    print(\"Empty\")"
   ]
  },
  {
   "cell_type": "markdown",
   "metadata": {},
   "source": [
    "# Loops, While loop, For Loop\n",
    "to print one word multiple times"
   ]
  },
  {
   "cell_type": "code",
   "execution_count": 1,
   "metadata": {},
   "outputs": [
    {
     "name": "stdout",
     "output_type": "stream",
     "text": [
      "hello world\n",
      "hello world\n",
      "hello world\n",
      "hello world\n",
      "hello world\n",
      "hello world\n",
      "hello world\n",
      "hello world\n",
      "hello world\n",
      "hello world\n"
     ]
    }
   ],
   "source": [
    "i=1\n",
    "while i<=10:\n",
    "    print(\"hello world\")\n",
    "    i=i+1    "
   ]
  },
  {
   "cell_type": "code",
   "execution_count": 6,
   "metadata": {},
   "outputs": [
    {
     "name": "stdout",
     "output_type": "stream",
     "text": [
      "hello world1\n",
      "hello world2\n",
      "hello world3\n",
      "hello world4\n",
      "hello world5\n",
      "hello world6\n",
      "hello world7\n",
      "hello world8\n",
      "hello world9\n",
      "hello world10\n"
     ]
    }
   ],
   "source": [
    "i=1 #i=2,i=3\n",
    "while i<=10:\n",
    "    print(f\"hello world{i}\")\n",
    "    i=i+1"
   ]
  },
  {
   "cell_type": "markdown",
   "metadata": {},
   "source": [
    "# sum:1 to 10(or any number)"
   ]
  },
  {
   "cell_type": "code",
   "execution_count": 15,
   "metadata": {},
   "outputs": [
    {
     "name": "stdout",
     "output_type": "stream",
     "text": [
      "1\n",
      "3\n",
      "6\n",
      "10\n",
      "15\n",
      "21\n",
      "28\n",
      "36\n",
      "45\n",
      "55\n"
     ]
    }
   ],
   "source": [
    "total=0\n",
    "i=1\n",
    "while i <=10:\n",
    "    total += i # total = total + 1\n",
    "    i += 1\n",
    "    print(total)"
   ]
  },
  {
   "cell_type": "markdown",
   "metadata": {},
   "source": [
    "# Exercise\n",
    "ask number to user\n",
    "sum till number"
   ]
  },
  {
   "cell_type": "code",
   "execution_count": 14,
   "metadata": {},
   "outputs": [
    {
     "name": "stdout",
     "output_type": "stream",
     "text": [
      "enter number:10\n",
      "1\n",
      "3\n",
      "6\n",
      "10\n",
      "15\n",
      "21\n",
      "28\n",
      "36\n",
      "45\n",
      "55\n"
     ]
    }
   ],
   "source": [
    "n=input(\"enter number:\") \n",
    "n=int(n)\n",
    "total=0\n",
    "i=1\n",
    "while i <=n:\n",
    "    total += i\n",
    "    i += 1\n",
    "    print (total)"
   ]
  },
  {
   "cell_type": "markdown",
   "metadata": {},
   "source": [
    "# Excercise"
   ]
  },
  {
   "cell_type": "code",
   "execution_count": 23,
   "metadata": {},
   "outputs": [
    {
     "name": "stdout",
     "output_type": "stream",
     "text": [
      "enter number: 1112\n",
      "5\n"
     ]
    }
   ],
   "source": [
    "number=input(\"enter number: \")\n",
    "total=0\n",
    "i=0 # start position of number\n",
    "while i< len(number):\n",
    "    total += int(number[i])\n",
    "    i += 1\n",
    "print(total) #calculates the entered numbers= 1112 =1+1+1+2"
   ]
  },
  {
   "cell_type": "markdown",
   "metadata": {},
   "source": [
    "# Excercise"
   ]
  },
  {
   "cell_type": "code",
   "execution_count": 6,
   "metadata": {},
   "outputs": [
    {
     "name": "stdout",
     "output_type": "stream",
     "text": [
      "enter nameLalit\n",
      "1\n",
      "1\n",
      "1\n",
      "1\n"
     ]
    }
   ],
   "source": [
    "name=input(\"enter name\")\n",
    "print(name.count(\"l\")),name.count(name[0])\n",
    "print(name.count(\"a\")),name.count(name[1])\n",
    "print(name.count(\"i\")),\n",
    "print(name.count(\"t\"))\n"
   ]
  },
  {
   "cell_type": "markdown",
   "metadata": {},
   "source": [
    "# Infinite Loop"
   ]
  },
  {
   "cell_type": "code",
   "execution_count": 4,
   "metadata": {},
   "outputs": [],
   "source": [
    "#i=0\n",
    "#while i<=10:\n",
    "    #print(\"hello\")#will print now for infinite times"
   ]
  },
  {
   "cell_type": "markdown",
   "metadata": {},
   "source": [
    "# For Loop"
   ]
  },
  {
   "cell_type": "code",
   "execution_count": 9,
   "metadata": {},
   "outputs": [
    {
     "name": "stdout",
     "output_type": "stream",
     "text": [
      "Hello wolrd:1\n",
      "Hello wolrd:2\n",
      "Hello wolrd:3\n",
      "Hello wolrd:4\n",
      "Hello wolrd:5\n",
      "Hello wolrd:6\n",
      "Hello wolrd:7\n",
      "Hello wolrd:8\n",
      "Hello wolrd:9\n",
      "Hello wolrd:10\n"
     ]
    }
   ],
   "source": [
    "for i in range(1,11):\n",
    "    print(f\"Hello wolrd:{i}\")"
   ]
  },
  {
   "cell_type": "markdown",
   "metadata": {},
   "source": [
    "# excercise slide 63"
   ]
  },
  {
   "cell_type": "code",
   "execution_count": 18,
   "metadata": {},
   "outputs": [
    {
     "name": "stdout",
     "output_type": "stream",
     "text": [
      "1\n",
      "3\n",
      "6\n",
      "10\n",
      "15\n",
      "21\n",
      "28\n",
      "36\n",
      "45\n"
     ]
    }
   ],
   "source": [
    "total=0\n",
    "for i in range(1,10):\n",
    "    total+=i\n",
    "    print(total)"
   ]
  },
  {
   "cell_type": "code",
   "execution_count": 33,
   "metadata": {},
   "outputs": [
    {
     "name": "stdout",
     "output_type": "stream",
     "text": [
      "enter number10\n",
      "55\n"
     ]
    }
   ],
   "source": [
    "n=int(input(\"enter number\"))\n",
    "total=0\n",
    "for i in range(1,n+1):\n",
    "    total +=i\n",
    "print(total)\n"
   ]
  },
  {
   "cell_type": "markdown",
   "metadata": {},
   "source": [
    "# Break and Continue"
   ]
  },
  {
   "cell_type": "code",
   "execution_count": 40,
   "metadata": {},
   "outputs": [
    {
     "name": "stdout",
     "output_type": "stream",
     "text": [
      "1\n",
      "2\n",
      "3\n",
      "4\n"
     ]
    }
   ],
   "source": [
    "#BREAK\n",
    "for i in range(1,10):\n",
    "    if i ==5:\n",
    "        break\n",
    "    print(i)"
   ]
  },
  {
   "cell_type": "code",
   "execution_count": 12,
   "metadata": {},
   "outputs": [
    {
     "name": "stdout",
     "output_type": "stream",
     "text": [
      "1\n",
      "2\n",
      "3\n",
      "4\n",
      "6\n",
      "7\n",
      "8\n",
      "9\n",
      "10\n"
     ]
    }
   ],
   "source": [
    "#Continue\n",
    "#print 1 to 10, but not 5\n",
    "for i in range(1,11):\n",
    "    if i==5:\n",
    "        continue\n",
    "    print(i)"
   ]
  },
  {
   "cell_type": "markdown",
   "metadata": {},
   "source": [
    "# Excercise Slide 68"
   ]
  },
  {
   "cell_type": "code",
   "execution_count": 13,
   "metadata": {},
   "outputs": [
    {
     "name": "stdout",
     "output_type": "stream",
     "text": [
      "guess a number between 1 and 100:20\n",
      "to low\n",
      "guess again:55\n",
      "too high\n",
      "guess again:43\n",
      "you win,and you guessed number in 3 times\n"
     ]
    }
   ],
   "source": [
    "winning_number=43\n",
    "guess = 1\n",
    "number=int(input(\"guess a number between 1 and 100:\"))\n",
    "game_over=False\n",
    "while not game_over:\n",
    "    if number==winning_number:\n",
    "        print(f\"you win,and you guessed number in {guess} times\")  \n",
    "        game_over = True\n",
    "    else:\n",
    "        if number < winning_number:\n",
    "            print(\"to low\")\n",
    "            guess += 1\n",
    "            number=int(input(\"guess again:\"))\n",
    "        else:\n",
    "            print(\"too high\")\n",
    "            guess += 1\n",
    "            number=int(input(\"guess again:\"))"
   ]
  },
  {
   "cell_type": "code",
   "execution_count": 1,
   "metadata": {},
   "outputs": [
    {
     "name": "stdout",
     "output_type": "stream",
     "text": [
      "guess a number between 1 and 5:1\n",
      "1\n",
      "to low\n",
      "guess again:5\n",
      "you win,and you guessed number in 2 times\n"
     ]
    }
   ],
   "source": [
    "import random\n",
    "guess = 1\n",
    "number=int(input(\"guess a number between 1 and 5:\"))\n",
    "winning_number=random.randint(1,5)\n",
    "print(number)\n",
    "number=int(number)\n",
    "game_over=False\n",
    "while not game_over:\n",
    "    if number==winning_number:\n",
    "        print(f\"you win,and you guessed number in {guess} times\")  \n",
    "        game_over = True\n",
    "    else:\n",
    "        if number < winning_number:\n",
    "            print(\"to low\")\n",
    "            guess += 1\n",
    "            number=int(input(\"guess again:\"))\n",
    "        else:\n",
    "            print(\"too high\")\n",
    "            guess += 1\n",
    "            number=int(input(\"guess again:\"))   "
   ]
  },
  {
   "cell_type": "markdown",
   "metadata": {},
   "source": [
    "# Dry Principle -Slide 69\n",
    "means dont repeat yourself"
   ]
  },
  {
   "cell_type": "code",
   "execution_count": 50,
   "metadata": {},
   "outputs": [
    {
     "name": "stdout",
     "output_type": "stream",
     "text": [
      "guess a number between 1 and 100:20\n",
      "to low\n",
      "guess again:56\n",
      "too high\n",
      "guess again:43\n",
      "you win,and you guessed number in 3 times\n"
     ]
    }
   ],
   "source": [
    "winning_number=43\n",
    "guess = 1\n",
    "number=int(input(\"guess a number between 1 and 100:\"))\n",
    "game_over=False\n",
    "while not game_over:\n",
    "    if number==winning_number:\n",
    "        print(f\"you win,and you guessed number in {guess} times\")  \n",
    "        game_over = True   #could use;break \n",
    "    else:\n",
    "        if number < winning_number:\n",
    "            print(\"to low\")\n",
    "           \n",
    "        else:\n",
    "            print(\"too high\")\n",
    "        # could use only:\"continue\" from below     \n",
    "        #dry principle applied from beleow    \n",
    "        guess += 1                \n",
    "        number=int(input(\"guess again:\"))"
   ]
  },
  {
   "cell_type": "markdown",
   "metadata": {},
   "source": [
    "# STEP Argument - slide 70"
   ]
  },
  {
   "cell_type": "code",
   "execution_count": 1,
   "metadata": {},
   "outputs": [
    {
     "name": "stdout",
     "output_type": "stream",
     "text": [
      "0\n",
      "2\n",
      "4\n",
      "6\n",
      "8\n",
      "10\n"
     ]
    }
   ],
   "source": [
    "for i in range(0,11,2):\n",
    "    print(i)"
   ]
  },
  {
   "cell_type": "code",
   "execution_count": 7,
   "metadata": {},
   "outputs": [
    {
     "name": "stdout",
     "output_type": "stream",
     "text": [
      "10\n",
      "8\n",
      "6\n",
      "4\n",
      "2\n"
     ]
    }
   ],
   "source": [
    "for i in range(10,1,-2):   \n",
    "    print(i)"
   ]
  },
  {
   "cell_type": "markdown",
   "metadata": {},
   "source": [
    "# Slide 71"
   ]
  },
  {
   "cell_type": "code",
   "execution_count": 12,
   "metadata": {},
   "outputs": [
    {
     "name": "stdout",
     "output_type": "stream",
     "text": [
      "L\n",
      "a\n",
      "l\n",
      "i\n",
      "t\n"
     ]
    }
   ],
   "source": [
    "for i in \"Lalit\":\n",
    "    print(i)"
   ]
  },
  {
   "cell_type": "code",
   "execution_count": 14,
   "metadata": {},
   "outputs": [
    {
     "name": "stdout",
     "output_type": "stream",
     "text": [
      "enter number:123\n",
      "6\n"
     ]
    }
   ],
   "source": [
    "num=input(\"enter number:\")\n",
    "total=0\n",
    "for i in num:\n",
    "    total += int(i)\n",
    "print(total)"
   ]
  },
  {
   "cell_type": "markdown",
   "metadata": {},
   "source": [
    "# Chapter 4 "
   ]
  },
  {
   "cell_type": "markdown",
   "metadata": {},
   "source": [
    "## Functions,Slide 73"
   ]
  },
  {
   "cell_type": "code",
   "execution_count": 52,
   "metadata": {},
   "outputs": [
    {
     "name": "stdout",
     "output_type": "stream",
     "text": [
      "9\n"
     ]
    }
   ],
   "source": [
    "def add_two(a,b):\n",
    "    return a+b    #NEED TO WRITE THIS LINE TO DECLARE THE FUNCTION WHAT TO DO\n",
    "\n",
    "total = add_two(5,4)     # 5 is a & 4 is b\n",
    "print(total)"
   ]
  },
  {
   "cell_type": "code",
   "execution_count": 60,
   "metadata": {},
   "outputs": [
    {
     "name": "stdout",
     "output_type": "stream",
     "text": [
      "enter first num:3\n",
      "enter first num:3\n",
      "6\n",
      "enter first num:3\n",
      "enter first num:3\n",
      "6\n"
     ]
    }
   ],
   "source": [
    "a=int(input(\"enter first num:\"))\n",
    "b=int(input(\"enter first num:\"))\n",
    "total=add_two(a,b)\n",
    "print(total)\n",
    "\n",
    "#Another way to write\n",
    "\n",
    "a=int(input(\"enter first num:\"))\n",
    "b=int(input(\"enter first num:\"))\n",
    "print(add_two(a,b))"
   ]
  },
  {
   "cell_type": "markdown",
   "metadata": {},
   "source": [
    "## Print VS Return   Slide 74"
   ]
  },
  {
   "cell_type": "markdown",
   "metadata": {},
   "source": [
    "# Exercise  Slide 75"
   ]
  },
  {
   "cell_type": "code",
   "execution_count": 2,
   "metadata": {},
   "outputs": [
    {
     "data": {
      "text/plain": [
       "'t'"
      ]
     },
     "execution_count": 2,
     "metadata": {},
     "output_type": "execute_result"
    }
   ],
   "source": [
    "def last_char(name):\n",
    "    return name[-1]\n",
    "last_char(\"Lalit\")"
   ]
  },
  {
   "cell_type": "code",
   "execution_count": 1,
   "metadata": {},
   "outputs": [
    {
     "name": "stdout",
     "output_type": "stream",
     "text": [
      "even\n",
      "odd\n"
     ]
    }
   ],
   "source": [
    "def odd_even(num):\n",
    "    if num%2 == 0:       \n",
    "        return \"even\"\n",
    "    else:\n",
    "        return \"odd\"\n",
    "    \n",
    "print(odd_even(8))\n",
    "print(odd_even(9))"
   ]
  },
  {
   "cell_type": "markdown",
   "metadata": {},
   "source": [
    "# Slide 76\n",
    "\n",
    "Define greater within 2 Numbers"
   ]
  },
  {
   "cell_type": "code",
   "execution_count": 2,
   "metadata": {},
   "outputs": [
    {
     "name": "stdout",
     "output_type": "stream",
     "text": [
      "enter number 1:20\n",
      "enter number 2:35\n",
      "35 is greater\n"
     ]
    }
   ],
   "source": [
    "def greater(a,b):\n",
    "    if a>b:\n",
    "        return a\n",
    "    else:\n",
    "        return b\n",
    "num1=int(input(\"enter number 1:\"))\n",
    "num2=int(input(\"enter number 2:\"))\n",
    "bigger = greater(num1,num2)\n",
    "print(f\"{bigger} is greater\")"
   ]
  },
  {
   "cell_type": "markdown",
   "metadata": {},
   "source": [
    "# Slide 77\n",
    "Define greatest within 3 numbers"
   ]
  },
  {
   "cell_type": "code",
   "execution_count": 3,
   "metadata": {},
   "outputs": [
    {
     "name": "stdout",
     "output_type": "stream",
     "text": [
      "30\n"
     ]
    }
   ],
   "source": [
    "def greatest(a,b,c):\n",
    "    if a>b and a>c:\n",
    "        return a\n",
    "    elif b>c and b>a:\n",
    "        return b\n",
    "    else: \n",
    "        return c\n",
    "print(greatest(10,20,30))\n",
    "\n"
   ]
  },
  {
   "cell_type": "markdown",
   "metadata": {},
   "source": [
    "# Slide 80\n",
    "Palindrome Function"
   ]
  },
  {
   "cell_type": "code",
   "execution_count": 17,
   "metadata": {},
   "outputs": [
    {
     "name": "stdout",
     "output_type": "stream",
     "text": [
      "enter name:lalal\n",
      "True\n"
     ]
    }
   ],
   "source": [
    "def palindrome(name):\n",
    "    if name==name[::-1]:\n",
    "        return True\n",
    "    return False\n",
    "name=input(\"enter name:\")\n",
    "print(palindrome(name))"
   ]
  },
  {
   "cell_type": "markdown",
   "metadata": {},
   "source": [
    "# Slide 82\n",
    "Fibonacci Series\n",
    "0 1 1 2 3 5 8 13 21 34"
   ]
  },
  {
   "cell_type": "code",
   "execution_count": 22,
   "metadata": {},
   "outputs": [
    {
     "name": "stdout",
     "output_type": "stream",
     "text": [
      "1,2,3,4,5,6,7,8,9,10,"
     ]
    }
   ],
   "source": [
    "for i in range(1,11):\n",
    "    print(i, end=\",\")"
   ]
  },
  {
   "cell_type": "code",
   "execution_count": 4,
   "metadata": {},
   "outputs": [
    {
     "name": "stdout",
     "output_type": "stream",
     "text": [
      "0 11 2 3 5 8 13 21 34 "
     ]
    }
   ],
   "source": [
    "def fibonacci_seq(n):\n",
    "        a=0 # first num\n",
    "        b=1 # second num\n",
    "        if n==1:\n",
    "            print(a)\n",
    "        elif n==2:\n",
    "            print(a,b) #a b, 0 1\n",
    "        else:\n",
    "            print(a,b, end =\"\")\n",
    "            for i in range(n-2):\n",
    "                c = a+b \n",
    "                a = b   \n",
    "                b = c   \n",
    "                print(b, end = \" \")\n",
    "                \n",
    "fibonacci_seq(10)"
   ]
  },
  {
   "cell_type": "markdown",
   "metadata": {},
   "source": [
    "# Slide 83\n",
    "Default parameters"
   ]
  },
  {
   "cell_type": "code",
   "execution_count": 23,
   "metadata": {},
   "outputs": [
    {
     "name": "stdout",
     "output_type": "stream",
     "text": [
      "your first name is lalit\n",
      "your last name is Jagtap\n",
      "your age is 25\n"
     ]
    }
   ],
   "source": [
    "def user_info(first_name,last_name,age):\n",
    "    print(f\"your first name is {first_name}\")\n",
    "    print(f\"your last name is {last_name}\")\n",
    "    print(f\"your age is {age}\")\n",
    "    \n",
    "user_info(\"lalit\",\"Jagtap\",\"25\")\n",
    "   "
   ]
  },
  {
   "cell_type": "code",
   "execution_count": 25,
   "metadata": {},
   "outputs": [
    {
     "name": "stdout",
     "output_type": "stream",
     "text": [
      "your first name is unknown\n",
      "your last name is Jagtap\n",
      "your age is 25\n"
     ]
    }
   ],
   "source": [
    "# Also can write this way\n",
    "\n",
    "def user_info(last_name,age,first_name = 'unknown'):\n",
    "    print(f\"your first name is {first_name}\")\n",
    "    print(f\"your last name is {last_name}\")\n",
    "    print(f\"your age is {age}\")\n",
    "\n",
    "user_info(\"Jagtap\",\"25\")"
   ]
  },
  {
   "cell_type": "markdown",
   "metadata": {},
   "source": [
    "# Slide 84\n",
    "Variable Scope"
   ]
  },
  {
   "cell_type": "code",
   "execution_count": 26,
   "metadata": {},
   "outputs": [
    {
     "name": "stdout",
     "output_type": "stream",
     "text": [
      "5\n",
      "7\n",
      "7\n"
     ]
    }
   ],
   "source": [
    "x = 5# global variable\n",
    "\n",
    "def func():\n",
    "    global x\n",
    "    x = 7 # local variable\n",
    "    return x\n",
    "\n",
    "print (x)\n",
    "print (func())\n",
    "print (x)"
   ]
  },
  {
   "cell_type": "markdown",
   "metadata": {},
   "source": [
    "# Chapter 5"
   ]
  },
  {
   "cell_type": "markdown",
   "metadata": {},
   "source": [
    "### List \n",
    "ordered collection of items"
   ]
  },
  {
   "cell_type": "code",
   "execution_count": null,
   "metadata": {},
   "outputs": [],
   "source": []
  },
  {
   "cell_type": "markdown",
   "metadata": {},
   "source": [
    "### Append Method - Add Data to List"
   ]
  },
  {
   "cell_type": "code",
   "execution_count": 1,
   "metadata": {},
   "outputs": [
    {
     "name": "stdout",
     "output_type": "stream",
     "text": [
      "['grapes', 'apple', 'mango']\n"
     ]
    }
   ],
   "source": [
    "#how to add item to list\n",
    "fruits = ['grapes', 'apple']\n",
    "fruits.append('mango')\n",
    "print(fruits)"
   ]
  },
  {
   "cell_type": "code",
   "execution_count": 5,
   "metadata": {},
   "outputs": [
    {
     "name": "stdout",
     "output_type": "stream",
     "text": [
      "['mango', 'grapes', 'Apple']\n"
     ]
    }
   ],
   "source": [
    "fruits = []\n",
    "fruits.append('mango')\n",
    "fruits.append('grapes')\n",
    "fruits.append('Apple')\n",
    "print(fruits)"
   ]
  },
  {
   "cell_type": "markdown",
   "metadata": {},
   "source": [
    "### Methods to add Data"
   ]
  },
  {
   "cell_type": "code",
   "execution_count": 11,
   "metadata": {},
   "outputs": [
    {
     "name": "stdout",
     "output_type": "stream",
     "text": [
      "['mango', 'grapes', 'orange']\n",
      "['mango', 'orange', 'grapes']\n"
     ]
    }
   ],
   "source": [
    "# Insert Method\n",
    "fruits1 = ['mango','orange']\n",
    "fruits1.insert(1,\"grapes\")\n",
    "print(fruits1)\n",
    "\n",
    "fruits1 = ['mango','orange']\n",
    "fruits1.insert(2,\"grapes\") # 2 includes the position of grapes\n",
    "print(fruits1)"
   ]
  },
  {
   "cell_type": "code",
   "execution_count": 14,
   "metadata": {},
   "outputs": [
    {
     "name": "stdout",
     "output_type": "stream",
     "text": [
      "['mango', 'orange', 'grapes', 'apple']\n"
     ]
    }
   ],
   "source": [
    "#How to Join / Concatenate\n",
    "fruits1 = ['mango','orange']\n",
    "fruits2 =['grapes','apple']\n",
    "fruits = fruits1 + fruits2\n",
    "print(fruits)"
   ]
  },
  {
   "cell_type": "code",
   "execution_count": 18,
   "metadata": {},
   "outputs": [
    {
     "name": "stdout",
     "output_type": "stream",
     "text": [
      "['mango', 'orange', 'grapes', 'apple']\n",
      "['grapes', 'apple']\n"
     ]
    }
   ],
   "source": [
    "# Extend Method\n",
    "fruits1 = ['mango','orange']\n",
    "fruits2 =['grapes','apple']\n",
    "fruits1.extend(fruits2)\n",
    "print(fruits1)\n",
    "print(fruits2)"
   ]
  },
  {
   "cell_type": "markdown",
   "metadata": {},
   "source": [
    "### Difference Betweeen Append and Extend"
   ]
  },
  {
   "cell_type": "code",
   "execution_count": 22,
   "metadata": {},
   "outputs": [
    {
     "name": "stdout",
     "output_type": "stream",
     "text": [
      "['mango', 'orange', ['grapes', 'apple']]\n"
     ]
    }
   ],
   "source": [
    "fruits1 = ['mango','orange']\n",
    "fruits2 =['grapes','apple']\n",
    "fruits1.append(fruits2)     # list inside one list\n",
    "print(fruits1)"
   ]
  },
  {
   "cell_type": "markdown",
   "metadata": {},
   "source": [
    "### Method to Delete Data from list   (Slide 88)"
   ]
  },
  {
   "cell_type": "code",
   "execution_count": 26,
   "metadata": {},
   "outputs": [
    {
     "name": "stdout",
     "output_type": "stream",
     "text": [
      "['mango', 'orange', 'apple', 'pear', 'banana']\n"
     ]
    }
   ],
   "source": [
    "# pop Method\n",
    "fruits = ['mango','orange','apple','pear','banana','kiwi']\n",
    "fruits.pop()     # can insert the position Number\n",
    "print(fruits)"
   ]
  },
  {
   "cell_type": "code",
   "execution_count": 29,
   "metadata": {},
   "outputs": [
    {
     "name": "stdout",
     "output_type": "stream",
     "text": [
      "['mango', 'apple', 'pear', 'banana', 'kiwi']\n"
     ]
    }
   ],
   "source": [
    "# del Operator\n",
    "fruits = ['mango','orange','apple','pear','banana','kiwi']\n",
    "del fruits[1]\n",
    "print(fruits)"
   ]
  },
  {
   "cell_type": "code",
   "execution_count": 74,
   "metadata": {},
   "outputs": [
    {
     "name": "stdout",
     "output_type": "stream",
     "text": [
      "['mango', 'orange', 'apple', 'pear', 'kiwi', 'banana']\n"
     ]
    }
   ],
   "source": [
    "# remove Method\n",
    "fruits = ['mango','orange','apple','pear','banana','kiwi','banana']\n",
    "fruits.remove('banana')  # If you don't know position can write the word and use remove operator\n",
    "print(fruits)         # there are two words 'banana' it will remove first word only "
   ]
  },
  {
   "cell_type": "markdown",
   "metadata": {},
   "source": [
    "### In keyword with list   (Slide 89)"
   ]
  },
  {
   "cell_type": "code",
   "execution_count": 75,
   "metadata": {},
   "outputs": [
    {
     "name": "stdout",
     "output_type": "stream",
     "text": [
      "mango is present\n"
     ]
    }
   ],
   "source": [
    "fruits = ['mango','orange','apple']\n",
    "if 'mango' in fruits:\n",
    "    print(\"mango is present\")\n",
    "else:\n",
    "    (\"not present\")"
   ]
  },
  {
   "cell_type": "markdown",
   "metadata": {},
   "source": [
    "### More types of Methods  (Slide 90)\n",
    "        #count #sort #sorted#reverse#clear #copy"
   ]
  },
  {
   "cell_type": "code",
   "execution_count": 43,
   "metadata": {},
   "outputs": [
    {
     "name": "stdout",
     "output_type": "stream",
     "text": [
      "2\n"
     ]
    }
   ],
   "source": [
    "#count\n",
    "fruits = ['mango','orange','apple','pear','banana','kiwi','banana']\n",
    "print(fruits.count('banana'))  "
   ]
  },
  {
   "cell_type": "code",
   "execution_count": 63,
   "metadata": {},
   "outputs": [
    {
     "name": "stdout",
     "output_type": "stream",
     "text": [
      "['apple', 'banana', 'banana', 'kiwi', 'mango', 'orange', 'pear']\n",
      "[1, 2, 3, 4, 5, 9]\n",
      "['mango', 'orange', 'apple', 'pear', 'banana', 'kiwi', 'banana']\n"
     ]
    }
   ],
   "source": [
    "#sort \n",
    "fruits = ['mango','orange','apple','pear','banana','kiwi','banana']\n",
    "fruits.sort()\n",
    "print(fruits)  # will sort alphabetically\n",
    "\n",
    "fruits = ['mango','orange','apple','pear','banana','kiwi','banana']\n",
    "numbers = [3,1,5,9,4,2]\n",
    "numbers.sort()\n",
    "print(numbers)\n",
    "print(fruits)"
   ]
  },
  {
   "cell_type": "code",
   "execution_count": 65,
   "metadata": {},
   "outputs": [
    {
     "name": "stdout",
     "output_type": "stream",
     "text": [
      "[1, 2, 3, 4, 5, 9]\n",
      "['mango', 'orange', 'apple', 'pear', 'banana', 'kiwi', 'banana']\n"
     ]
    }
   ],
   "source": [
    "#sorted\n",
    "fruits = ['mango','orange','apple','pear','banana','kiwi','banana']\n",
    "numbers = [3,1,5,9,4,2]\n",
    "print(sorted(numbers)) #only prints in sorted order\n",
    "print(fruits)"
   ]
  },
  {
   "cell_type": "code",
   "execution_count": 72,
   "metadata": {},
   "outputs": [
    {
     "name": "stdout",
     "output_type": "stream",
     "text": [
      "[16, 9, 1, 3, 7, 4, 6]\n"
     ]
    }
   ],
   "source": [
    "#reverse\n",
    "numbers=[6,4,7,3,1,9,16]\n",
    "numbers.reverse()\n",
    "print(numbers)"
   ]
  },
  {
   "cell_type": "code",
   "execution_count": null,
   "metadata": {},
   "outputs": [],
   "source": [
    "#clear - to clear the printed porgram"
   ]
  },
  {
   "cell_type": "code",
   "execution_count": 70,
   "metadata": {},
   "outputs": [
    {
     "name": "stdout",
     "output_type": "stream",
     "text": [
      "[3, 1, 5, 9, 4, 2]\n"
     ]
    }
   ],
   "source": [
    "#copy - to make another copy \n",
    "fruits = ['mango','orange','apple','pear','banana','kiwi','banana']\n",
    "numbers = [3,1,5,9,4,2]\n",
    "numbers_copy = numbers.copy()\n",
    "print(numbers_copy)"
   ]
  },
  {
   "cell_type": "markdown",
   "metadata": {},
   "source": [
    "### is vs equal '=='    (Slide 91)"
   ]
  },
  {
   "cell_type": "code",
   "execution_count": 1,
   "metadata": {},
   "outputs": [
    {
     "name": "stdout",
     "output_type": "stream",
     "text": [
      "True\n",
      "False\n"
     ]
    }
   ],
   "source": [
    "fruits1 = ['orange','apple','pear']\n",
    "fruits2 = ['orange','apple','pear']\n",
    "fruits3 = ['banana','orange','kiwi']\n",
    "print(fruits1 == fruits2)   # '==' to check valuses are same or not\n",
    "print(fruits1 is fruits2)   #False - 'is' to check object"
   ]
  },
  {
   "cell_type": "markdown",
   "metadata": {},
   "source": [
    "### 'join' and 'split' method    ( Slide 92)"
   ]
  },
  {
   "cell_type": "code",
   "execution_count": 3,
   "metadata": {},
   "outputs": [],
   "source": [
    "#split - convert string in list \n"
   ]
  },
  {
   "cell_type": "code",
   "execution_count": null,
   "metadata": {},
   "outputs": [],
   "source": [
    "#join - convert list to string"
   ]
  },
  {
   "cell_type": "code",
   "execution_count": null,
   "metadata": {},
   "outputs": [],
   "source": []
  },
  {
   "cell_type": "code",
   "execution_count": null,
   "metadata": {},
   "outputs": [],
   "source": []
  },
  {
   "cell_type": "code",
   "execution_count": null,
   "metadata": {},
   "outputs": [],
   "source": []
  },
  {
   "cell_type": "code",
   "execution_count": null,
   "metadata": {},
   "outputs": [],
   "source": []
  }
 ],
 "metadata": {
  "kernelspec": {
   "display_name": "Python 3",
   "language": "python",
   "name": "python3"
  },
  "language_info": {
   "codemirror_mode": {
    "name": "ipython",
    "version": 3
   },
   "file_extension": ".py",
   "mimetype": "text/x-python",
   "name": "python",
   "nbconvert_exporter": "python",
   "pygments_lexer": "ipython3",
   "version": "3.7.4"
  }
 },
 "nbformat": 4,
 "nbformat_minor": 2
}
